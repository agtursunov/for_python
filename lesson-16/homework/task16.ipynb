{
 "cells": [
  {
   "cell_type": "markdown",
   "metadata": {},
   "source": [
    "Task 1. Write a Python function that converts a temperature from Fahrenheit to Celsius. Use `numpy.vectorize` to apply this function to an array of temperatures: `[32, 68, 100, 212, 77]`. \n",
    "   - Formula: $C = (F - 32) \\times \\frac{5}{9}$\n",
    "\n",
    "---\n",
    "\n",
    "Task 2. Create a custom function that takes two arguments: a number and a power. Use `numpy.vectorize` to calculate the power for each pair of numbers in two arrays: `[2, 3, 4, 5]` and `[1, 2, 3, 4]`.\n",
    "\n",
    "---\n",
    "\n",
    "Task 3. Solve the system of equations using `numpy`:\n",
    "\n",
    "$$\n",
    "\\begin{cases}\n",
    "4x + 5y + 6z = 7 \\\\\n",
    "3x - y + z = 4 \\\\\n",
    "2x + y - 2z = 5\n",
    "\\end{cases}\n",
    "$$\n",
    "\n",
    "---\n",
    "\n",
    "Task 4. Given the electrical circuit equations below, solve for $I_1, I_2, I_3$ (currents in the branches):\n",
    "\n",
    "$$\n",
    "\\begin{cases}\n",
    "10I_1 - 2I_2 + 3I_3 = 12 \\\\\n",
    "-2I_1 + 8I_2 - I_3 = -5 \\\\\n",
    "3I_1 - I_2 + 6I_3 = 15\n",
    "\\end{cases}\n",
    "$$"
   ]
  },
  {
   "cell_type": "code",
   "execution_count": 75,
   "metadata": {},
   "outputs": [],
   "source": [
    "import numpy as np"
   ]
  },
  {
   "cell_type": "code",
   "execution_count": 76,
   "metadata": {},
   "outputs": [],
   "source": [
    "# Task_1\n",
    "def fahrenheit_to_celsius(temperature_fahr):\n",
    "    temperature_cels = (temperature_fahr - 32) * 5 / 9\n",
    "    return temperature_cels\n",
    "\n",
    "list_of_fahrenheit = np.array([32, 68, 100, 212, 77])\n",
    "\n",
    "vect_func = np.vectorize(fahrenheit_to_celsius)\n",
    "temps_celsius = vect_func(list_of_fahrenheit)\n"
   ]
  },
  {
   "cell_type": "code",
   "execution_count": 77,
   "metadata": {},
   "outputs": [
    {
     "name": "stdout",
     "output_type": "stream",
     "text": [
      "[2, 9, 64, 625]\n"
     ]
    }
   ],
   "source": [
    "# Task_2\n",
    "def power_func(num, pow):\n",
    "    return num**pow\n",
    "vect_power = np.vectorize(power_func)\n",
    "num_list = np.array([2, 3, 4, 5])\n",
    "pow_list = np.array([1, 2, 3, 4])\n",
    "print(list(vect_power(num_list, pow_list)))"
   ]
  },
  {
   "cell_type": "code",
   "execution_count": 78,
   "metadata": {},
   "outputs": [
    {
     "name": "stdout",
     "output_type": "stream",
     "text": [
      "[2.0, 1.0, -0.0]\n"
     ]
    }
   ],
   "source": [
    "# Task_3\n",
    "A = np.array([[4, 5, 6], [3, -1, 1], [2, 1, -2]])\n",
    "b = np.array([7, 4, 5])\n",
    "\n",
    "print(list(np.round(np.linalg.solve(A, b))))"
   ]
  },
  {
   "cell_type": "code",
   "execution_count": 79,
   "metadata": {},
   "outputs": [
    {
     "name": "stdout",
     "output_type": "stream",
     "text": [
      "[0.49, -0.23, 2.22]\n"
     ]
    }
   ],
   "source": [
    "# Task_4\n",
    "A2 = np.array([[10, -2, 3], [-2, 8, -1], [3, -1, 6]])\n",
    "b2 = np.array([12, -5, 15])\n",
    "\n",
    "print(list(np.round(np.linalg.solve(A2, b2), 2)))\n"
   ]
  },
  {
   "cell_type": "markdown",
   "metadata": {},
   "source": [
    "**Image Manipulation with NumPy and PIL**\n",
    "\n",
    "Image file: `images/birds.jpg`. Your task is to perform the following image manipulations using the **NumPy** library while leveraging **PIL** for reading and saving the image.\n",
    "\n",
    "**Instructions:**\n",
    "\n",
    "1. **Flip the Image**:\n",
    "   - Flip the image horizontally and vertically (left-to-right and up-to-down).\n",
    "\n",
    "2. **Add Random Noise**:\n",
    "   - Add random noise to the image.\n",
    "\n",
    "3. **Brighten Channels**:\n",
    "   - Increase the brightness of the channels (r.g. red channel) by a fixed value (e.g., 40). Clip the values to ensure they stay within the 0 to 255 range.\n",
    "\n",
    "4. **Apply a Mask**:\n",
    "   - Mask a rectangular region in the image (e.g., a 100x100 area in the center) by setting all pixel values in this region to black (0, 0, 0).\n",
    "\n",
    "**Requirements:**\n",
    "- Use the **PIL** module onyl to:\n",
    "  - Read the image.\n",
    "  - Convert numpy array to image.\n",
    "  - Save the modified image back to a file.\n",
    "- Perform all manipulations using NumPy functions. Avoid using image editing functions from PIL or other libraries.\n",
    "\n",
    "\n",
    "**Bonus Challenge**:\n",
    "- Create a function for each manipulation (e.g., `flip_image`, `add_noise`, `brighten_channels`, `apply_mask`) to promote modularity and reusability of code.\n",
    "\n",
    "--- "
   ]
  },
  {
   "cell_type": "code",
   "execution_count": 80,
   "metadata": {},
   "outputs": [],
   "source": [
    "from PIL import Image"
   ]
  },
  {
   "cell_type": "code",
   "execution_count": 81,
   "metadata": {},
   "outputs": [],
   "source": [
    "image = Image.open('birds.jpg')\n",
    "image_array = np.array(image)"
   ]
  },
  {
   "cell_type": "code",
   "execution_count": 82,
   "metadata": {},
   "outputs": [
    {
     "name": "stdout",
     "output_type": "stream",
     "text": [
      "(720, 720, 3)\n",
      "1555200\n",
      "[[[ 34  98   2]\n",
      "  [ 34  98   2]\n",
      "  [ 34  98   2]\n",
      "  ...\n",
      "  [ 40  75  19]\n",
      "  [ 40  75  19]\n",
      "  [ 40  75  19]]\n",
      "\n",
      " [[ 34  98   2]\n",
      "  [ 34  98   2]\n",
      "  [ 34  98   2]\n",
      "  ...\n",
      "  [ 37  72  16]\n",
      "  [ 37  72  16]\n",
      "  [ 37  72  16]]\n",
      "\n",
      " [[ 34  98   2]\n",
      "  [ 34  98   2]\n",
      "  [ 34  98   2]\n",
      "  ...\n",
      "  [ 35  70  14]\n",
      "  [ 35  70  14]\n",
      "  [ 35  70  14]]\n",
      "\n",
      " ...\n",
      "\n",
      " [[ 21  75   0]\n",
      "  [ 21  75   0]\n",
      "  [ 21  75   0]\n",
      "  ...\n",
      "  [144 110 111]\n",
      "  [139 105 106]\n",
      "  [137 103 104]]\n",
      "\n",
      " [[ 21  75   0]\n",
      "  [ 21  75   0]\n",
      "  [ 21  75   0]\n",
      "  ...\n",
      "  [147 113 112]\n",
      "  [141 107 106]\n",
      "  [138 104 103]]\n",
      "\n",
      " [[ 21  75   0]\n",
      "  [ 21  75   0]\n",
      "  [ 21  75   0]\n",
      "  ...\n",
      "  [151 117 116]\n",
      "  [145 111 110]\n",
      "  [143 109 108]]]\n"
     ]
    }
   ],
   "source": [
    "print(image_array.shape)\n",
    "print(image_array.size)\n",
    "print(image_array)"
   ]
  },
  {
   "cell_type": "code",
   "execution_count": 83,
   "metadata": {},
   "outputs": [],
   "source": [
    "def flip_image(img_array):\n",
    "    flipped_image = np.flipud(np.fliplr(img_array))\n",
    "    return flipped_image"
   ]
  },
  {
   "cell_type": "code",
   "execution_count": 84,
   "metadata": {},
   "outputs": [],
   "source": [
    "def make_brighter(img_array, bright_value=96):\n",
    "    img_array = img_array.astype(np.int32)\n",
    "    img_array[:,:,0] += bright_value\n",
    "    img_array = np.clip(img_array, 0, 255).astype(np.uint8)\n",
    "    return img_array"
   ]
  },
  {
   "cell_type": "code",
   "execution_count": 85,
   "metadata": {},
   "outputs": [],
   "source": [
    "def make_mask(img_array, mask_size=(200, 150)):\n",
    "    height, width, _ = img_array.shape\n",
    "    center = (height // 2, width // 2)\n",
    "    mask_cord = (center[0] - mask_size[0] // 2, center[1] - mask_size[1] // 2)\n",
    "    img_array[mask_cord[0]:mask_cord[0] + mask_size[0], mask_cord[1]:mask_cord[1] + mask_size[1]] = 0\n",
    "    return img_array"
   ]
  },
  {
   "cell_type": "code",
   "execution_count": 86,
   "metadata": {},
   "outputs": [],
   "source": [
    "def main():\n",
    "    flipped_image = flip_image(image_array)\n",
    "    Image.fromarray(flipped_image).save('flipped_image.jpg')\n",
    "\n",
    "    brightened_image = make_brighter(image_array)\n",
    "    Image.fromarray(brightened_image).save('brightened_image.jpg')\n",
    "\n",
    "    masked_image = make_mask(image_array)\n",
    "    Image.fromarray(masked_image).save('masked_image.jpg')"
   ]
  },
  {
   "cell_type": "code",
   "execution_count": 87,
   "metadata": {},
   "outputs": [],
   "source": [
    "if __name__ == '__main__':\n",
    "    main()"
   ]
  }
 ],
 "metadata": {
  "kernelspec": {
   "display_name": "Python 3",
   "language": "python",
   "name": "python3"
  },
  "language_info": {
   "codemirror_mode": {
    "name": "ipython",
    "version": 3
   },
   "file_extension": ".py",
   "mimetype": "text/x-python",
   "name": "python",
   "nbconvert_exporter": "python",
   "pygments_lexer": "ipython3",
   "version": "3.11.6"
  }
 },
 "nbformat": 4,
 "nbformat_minor": 2
}
