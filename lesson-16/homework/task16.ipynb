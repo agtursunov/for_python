{
 "cells": [
  {
   "cell_type": "markdown",
   "metadata": {},
   "source": [
    "Task 1. Write a Python function that converts a temperature from Fahrenheit to Celsius. Use `numpy.vectorize` to apply this function to an array of temperatures: `[32, 68, 100, 212, 77]`. \n",
    "   - Formula: $C = (F - 32) \\times \\frac{5}{9}$\n",
    "\n",
    "---\n",
    "\n",
    "Task 2. Create a custom function that takes two arguments: a number and a power. Use `numpy.vectorize` to calculate the power for each pair of numbers in two arrays: `[2, 3, 4, 5]` and `[1, 2, 3, 4]`.\n",
    "\n",
    "---\n",
    "\n",
    "Task 3. Solve the system of equations using `numpy`:\n",
    "\n",
    "$$\n",
    "\\begin{cases}\n",
    "4x + 5y + 6z = 7 \\\\\n",
    "3x - y + z = 4 \\\\\n",
    "2x + y - 2z = 5\n",
    "\\end{cases}\n",
    "$$\n",
    "\n",
    "---\n",
    "\n",
    "Task 4. Given the electrical circuit equations below, solve for $I_1, I_2, I_3$ (currents in the branches):\n",
    "\n",
    "$$\n",
    "\\begin{cases}\n",
    "10I_1 - 2I_2 + 3I_3 = 12 \\\\\n",
    "-2I_1 + 8I_2 - I_3 = -5 \\\\\n",
    "3I_1 - I_2 + 6I_3 = 15\n",
    "\\end{cases}\n",
    "$$"
   ]
  },
  {
   "cell_type": "code",
   "execution_count": 2,
   "metadata": {},
   "outputs": [],
   "source": [
    "import numpy as np"
   ]
  },
  {
   "cell_type": "code",
   "execution_count": 8,
   "metadata": {},
   "outputs": [],
   "source": [
    "# Task_1\n",
    "def fahrenheit_to_celsius(temperature_fahr):\n",
    "    temperature_cels = (temperature_fahr - 32) * 5 / 9\n",
    "    return temperature_cels\n",
    "\n",
    "list_of_fahrenheit = np.array([32, 68, 100, 212, 77])\n",
    "\n",
    "vect_func = np.vectorize(fahrenheit_to_celsius)\n",
    "temps_celsius = vect_func(list_of_fahrenheit)\n"
   ]
  },
  {
   "cell_type": "code",
   "execution_count": 10,
   "metadata": {},
   "outputs": [
    {
     "name": "stdout",
     "output_type": "stream",
     "text": [
      "[2, 9, 64, 625]\n"
     ]
    }
   ],
   "source": [
    "# Task_2\n",
    "def power_func(num, pow):\n",
    "    return num**pow\n",
    "vect_power = np.vectorize(power_func)\n",
    "num_list = np.array([2, 3, 4, 5])\n",
    "pow_list = np.array([1, 2, 3, 4])\n",
    "print(list(vect_power(num_list, pow_list)))"
   ]
  },
  {
   "cell_type": "code",
   "execution_count": 18,
   "metadata": {},
   "outputs": [
    {
     "name": "stdout",
     "output_type": "stream",
     "text": [
      "[2.0, 1.0, -0.0]\n"
     ]
    }
   ],
   "source": [
    "# Task_3\n",
    "A = np.array([[4, 5, 6], [3, -1, 1], [2, 1, -2]])\n",
    "b = np.array([7, 4, 5])\n",
    "\n",
    "print(list(np.round(np.linalg.solve(A, b))))"
   ]
  },
  {
   "cell_type": "code",
   "execution_count": 17,
   "metadata": {},
   "outputs": [
    {
     "name": "stdout",
     "output_type": "stream",
     "text": [
      "[0.49, -0.23, 2.22]\n"
     ]
    }
   ],
   "source": [
    "# Task_4\n",
    "A2 = np.array([[10, -2, 3], [-2, 8, -1], [3, -1, 6]])\n",
    "b2 = np.array([12, -5, 15])\n",
    "\n",
    "print(list(np.round(np.linalg.solve(A2, b2), 2)))\n"
   ]
  },
  {
   "cell_type": "code",
   "execution_count": null,
   "metadata": {},
   "outputs": [],
   "source": []
  }
 ],
 "metadata": {
  "kernelspec": {
   "display_name": "Python 3",
   "language": "python",
   "name": "python3"
  },
  "language_info": {
   "codemirror_mode": {
    "name": "ipython",
    "version": 3
   },
   "file_extension": ".py",
   "mimetype": "text/x-python",
   "name": "python",
   "nbconvert_exporter": "python",
   "pygments_lexer": "ipython3",
   "version": "3.11.6"
  }
 },
 "nbformat": 4,
 "nbformat_minor": 2
}
