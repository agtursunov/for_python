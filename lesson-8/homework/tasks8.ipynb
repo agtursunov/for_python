{
 "cells": [
  {
   "cell_type": "markdown",
   "metadata": {},
   "source": [
    "Model a Farm"
   ]
  },
  {
   "cell_type": "markdown",
   "metadata": {},
   "source": [
    "In this assignment, you’ll create a simplified model of a farm. As you work through this assignment, keep in mind that there are a number of correct answers.\n",
    "\n",
    "The focus of this assignment is less about the Python class syntax and more about software design in general, which is highly subjective. This assignment is intentionally left open-ended to encourage you to think about how you would organize your code into classes.\n",
    "\n",
    "Before you write any code, grab a pen and paper and sketch out a model of your farm, identifying classes, attributes, and methods. Think about inheritance. How can you prevent code duplication? Take the time to work through as many iterations as you feel are necessary.\n",
    "\n",
    "The actual requirements are open to interpretation, but try to adhere to these guidelines:\n",
    "\n",
    "You should have at least four classes: the parent Animal class, and then at least three child animal classes that inherit from Animal.\n",
    "    Each class should have a few attributes and at least one method that models some behavior appropriate for a specific animal or all animals—such as walking, running, eating, sleeping, and so on.\n",
    "    Keep it simple. Utilize inheritance. Make sure you output details about the animals and their behaviors."
   ]
  },
  {
   "cell_type": "code",
   "execution_count": 7,
   "metadata": {},
   "outputs": [],
   "source": [
    "class Animal:\n",
    "    def __init__(self, name, age, species):\n",
    "        self.name = name\n",
    "        self.age = age\n",
    "        self.species = species\n",
    "\n",
    "    def eat(self):\n",
    "        print(f\"{self.name} is eating.\")\n",
    "\n",
    "    def sleep(self):\n",
    "        print(f\"{self.name} is sleeping.\")\n",
    "\n",
    "    def force(self):\n",
    "        print(f\"{self.name} makes a sound.\")\n",
    "\n",
    "class Cow(Animal):\n",
    "    def __init__(self, name, age):\n",
    "        super().__init__(name, age, species=\"Cow\")\n",
    "\n",
    "    def produce_milk(self):\n",
    "        print(f\"{self.name} is producing milk.\")\n",
    "\n",
    "    def force(self):\n",
    "        print(f\"{self.name}'s force = 100 kWatt\")\n",
    "\n",
    "class Dog(Animal):\n",
    "    def __init__(self, name, age):\n",
    "        super().__init__(name, age, species=\"Dog\")\n",
    "\n",
    "    def wowing(self):\n",
    "        print(f\"{self.name} is wowing.\")\n",
    "\n",
    "    def force(self):\n",
    "        print(f\"{self.name}'s force = 25 kWatt\")\n",
    "\n",
    "class Horse(Animal):\n",
    "    def __init__(self, name, age):\n",
    "        super().__init__(name, age, species=\"Horse\")\n",
    "\n",
    "    def transport(self):\n",
    "        print(f\"{self.name} is a transport and Azizbek can ride it!\")\n",
    "\n",
    "    def force(self):\n",
    "        print(f\"{self.name}'s force = 120 kWatt'.\")\n"
   ]
  },
  {
   "cell_type": "code",
   "execution_count": 14,
   "metadata": {},
   "outputs": [
    {
     "name": "stdout",
     "output_type": "stream",
     "text": [
      "Oyqashqa is eating.\n",
      "Oyqashqa is sleeping.\n",
      "Reks is eating.\n",
      "Reks is sleeping.\n",
      "G'irko'k is eating.\n",
      "G'irko'k is sleeping.\n",
      "Oyqashqa's force = 100 kWatt\n",
      "Reks's force = 25 kWatt\n",
      "G'irko'k's force = 120 kWatt'.\n",
      "Oyqashqa is producing milk.\n",
      "Reks is wowing.\n",
      "G'irko'k is a transport and Azizbek can ride it!\n"
     ]
    }
   ],
   "source": [
    "def main():\n",
    "    cow = Cow(name=\"Oyqashqa\", age=5)\n",
    "    dog = Dog(name=\"Reks\", age=7)\n",
    "    horse = Horse(name=\"G'irko'k\", age=4)\n",
    "\n",
    "    cow.eat()\n",
    "    cow.sleep()\n",
    "\n",
    "    dog.eat()\n",
    "    dog.sleep()\n",
    "\n",
    "    horse.eat()\n",
    "    horse.sleep()\n",
    "\n",
    "    cow.force()\n",
    "    dog.force()\n",
    "    horse.force()\n",
    "\n",
    "    cow.produce_milk()\n",
    "    dog.wowing()\n",
    "    horse.transport()\n",
    "\n",
    "if __name__ == \"__main__\":\n",
    "    main()\n"
   ]
  },
  {
   "cell_type": "markdown",
   "metadata": {},
   "source": [
    "Build a Bank Application\n",
    "Objective:\n",
    "Develop a command-line banking application that allows users to perform basic banking operations like creating an account, depositing money, and withdrawing money. This will help you practice using object-oriented programming (OOP), file handling, and error handling in Python."
   ]
  },
  {
   "cell_type": "markdown",
   "metadata": {},
   "source": [
    "Tasks:\n",
    "Step 1: Define the Classes\n",
    "\n",
    "Create a class Account with attributes:\n",
    "\n",
    "    account_number\n",
    "    name\n",
    "    balance\n",
    "\n",
    "Create a class Bank to manage all accounts. It should have:\n",
    "\n",
    "    A dictionary to store accounts (accounts).\n",
    "    Methods for each operation:\n",
    "    create_account(name, initial_deposit)\n",
    "    view_account(account_number)\n",
    "    deposit(account_number, amount)\n",
    "    withdraw(account_number, amount)\n",
    "    save_to_file() and load_from_file() (for file handling).\n",
    "\n",
    "Step 2: Implement the Methods\n",
    "Account Creation\n",
    "\n",
    "    Generate a unique account_number.\n",
    "    Create an Account object and store it in the dictionary.\n",
    "    Save account details to a file.\n",
    "View Account Details\n",
    "\n",
    "    Prompt the user to input their account number.\n",
    "    Retrieve and display the account details if found; otherwise, show an error.\n",
    "Deposit Money\n",
    "\n",
    "    Prompt the user for their account number and deposit amount.\n",
    "    Validate the amount and update the account balance.\n",
    "Withdraw Money\n",
    "\n",
    "    Prompt the user for their account number and withdrawal amount.\n",
    "    Validate that the amount is less than or equal to the balance and update the account balance.\n",
    "File Handling\n",
    "\n",
    "    Use save_to_file to write account details to accounts.txt.\n",
    "    Use load_from_file to load account details when the program starts."
   ]
  },
  {
   "cell_type": "code",
   "execution_count": 30,
   "metadata": {},
   "outputs": [],
   "source": [
    "class Account:\n",
    "    def __init__(self, account_number, name, balance=0):\n",
    "        self.account_number = account_number\n",
    "        self.name = name\n",
    "        self.balance = balance\n",
    "\n",
    "    def display_account_info(self):\n",
    "        print(f\"Account Number: {self.account_number}\")\n",
    "        print(f\"Name: {self.name}\")\n",
    "        print(f\"Balance: ${self.balance}\")\n"
   ]
  },
  {
   "cell_type": "code",
   "execution_count": 32,
   "metadata": {},
   "outputs": [],
   "source": [
    "\n",
    "class Bank:\n",
    "    def __init__(self):\n",
    "        self.accounts = {}\n",
    "\n",
    "    def create_account(self, name, init_deposit):\n",
    "        account_number = len(self.accounts) + 1\n",
    "        account = Account(account_number, name, init_deposit)\n",
    "        self.accounts[account_number] = account\n",
    "\n",
    "    def view_account(self, account_number):\n",
    "        if account_number in self.accounts:\n",
    "            self.accounts[account_number].display_account_info()\n",
    "        else:\n",
    "            print(\"Account not found.\")\n",
    "\n",
    "    def deposit(self, account_number, amount):\n",
    "        if account_number in self.accounts:\n",
    "            if amount > 0:\n",
    "                self.accounts[account_number].balance += amount\n",
    "                print(f\"Deposite: ${amount}. New balance: ${self.accounts[account_number].balance}\")\n",
    "            else:\n",
    "                print(\"Amount must be greater than 0.\")\n",
    "        else:\n",
    "            print(\"Account not found.\")\n"
   ]
  },
  {
   "cell_type": "code",
   "execution_count": 33,
   "metadata": {},
   "outputs": [],
   "source": [
    "def main():\n",
    "    bank = Bank()\n",
    "    bank.create_account('Azizbek', 19550)\n",
    "if __name__ == \"__main__\":\n",
    "    main()"
   ]
  }
 ],
 "metadata": {
  "kernelspec": {
   "display_name": "Python 3",
   "language": "python",
   "name": "python3"
  },
  "language_info": {
   "codemirror_mode": {
    "name": "ipython",
    "version": 3
   },
   "file_extension": ".py",
   "mimetype": "text/x-python",
   "name": "python",
   "nbconvert_exporter": "python",
   "pygments_lexer": "ipython3",
   "version": "3.11.6"
  }
 },
 "nbformat": 4,
 "nbformat_minor": 2
}
