{
 "cells": [
  {
   "cell_type": "markdown",
   "metadata": {},
   "source": [
    "Task 1: Weather API\n",
    "\n",
    "Use this url : https://openweathermap.org/\n",
    "\n",
    "Use the requests library to fetch weather data for a specific city(ex. your hometown: Tashkent) and print relevant information (temperature, humidity, etc.)."
   ]
  },
  {
   "cell_type": "code",
   "execution_count": 168,
   "metadata": {},
   "outputs": [],
   "source": [
    "import requests"
   ]
  },
  {
   "cell_type": "code",
   "execution_count": 169,
   "metadata": {},
   "outputs": [],
   "source": [
    "def display_weather(info):\n",
    "    try:\n",
    "        temperature = info['main']['temp']\n",
    "        humidity = info['main']['humidity']\n",
    "        weather_description = info['weather'][0]['description']\n",
    "        wind_speed = info['wind']['speed']\n",
    "        visibility = info['visibility']\n",
    "        print(f'''All about the weather in Termez today:\n",
    "        weather_description - {weather_description}\n",
    "        temperature - {temperature} F\n",
    "        wind_speed - {wind_speed} miles/hour\n",
    "        humidity - {humidity} %\n",
    "        visibility - {visibility} meters\n",
    "        ''')\n",
    "        \n",
    "    except KeyError as e:\n",
    "        print(f'Error occured {e}')"
   ]
  },
  {
   "cell_type": "code",
   "execution_count": 170,
   "metadata": {},
   "outputs": [],
   "source": [
    "def weather_data():\n",
    "    \n",
    "    try:\n",
    "        with open('api_key.txt', 'rt') as text_of_key:\n",
    "            personal_key = text_of_key.read().strip()\n",
    "        latitude = 37.12 # for Termez city\n",
    "        longitude = 67.16\n",
    "        response = requests.get(f'https://api.openweathermap.org/data/2.5/weather?lat={latitude}&lon={longitude}&appid={personal_key}')\n",
    "\n",
    "        response.raise_for_status()\n",
    "\n",
    "        weather_data = response.json()\n",
    "        display_weather(weather_data)\n",
    "\n",
    "    except requests.exceptions.RequestException as e:\n",
    "        print(f'Error occured {e}')\n",
    "\n",
    "    except FileNotFoundError as e:\n",
    "        print(f'Error Occured {e}')\n",
    "    \n"
   ]
  },
  {
   "cell_type": "code",
   "execution_count": 171,
   "metadata": {},
   "outputs": [],
   "source": [
    "def main():\n",
    "    weather_data()"
   ]
  },
  {
   "cell_type": "code",
   "execution_count": 172,
   "metadata": {},
   "outputs": [
    {
     "name": "stdout",
     "output_type": "stream",
     "text": [
      "All about the weather in Termez today:\n",
      "        weather_description - overcast clouds\n",
      "        temperature - 274.22 F\n",
      "        wind_speed - 10.46 miles/hour\n",
      "        humidity - 53 %\n",
      "        visibility - 10000 meters\n",
      "        \n"
     ]
    }
   ],
   "source": [
    "if __name__ == '__main__':\n",
    "    main()"
   ]
  },
  {
   "cell_type": "markdown",
   "metadata": {},
   "source": [
    "Task 2: Movie Recommendation System\n",
    "\n",
    "Use this url https://developer.themoviedb.org/docs/getting-started/ to fetch information about movies.\n",
    "\n",
    "Create a program that asks users for a movie genre and recommends a random movie from that genre."
   ]
  },
  {
   "cell_type": "code",
   "execution_count": null,
   "metadata": {},
   "outputs": [],
   "source": []
  },
  {
   "cell_type": "markdown",
   "metadata": {},
   "source": []
  }
 ],
 "metadata": {
  "kernelspec": {
   "display_name": "Python 3",
   "language": "python",
   "name": "python3"
  },
  "language_info": {
   "codemirror_mode": {
    "name": "ipython",
    "version": 3
   },
   "file_extension": ".py",
   "mimetype": "text/x-python",
   "name": "python",
   "nbconvert_exporter": "python",
   "pygments_lexer": "ipython3",
   "version": "3.11.6"
  }
 },
 "nbformat": 4,
 "nbformat_minor": 2
}
