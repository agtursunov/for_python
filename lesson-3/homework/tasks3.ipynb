{
 "cells": [
  {
   "cell_type": "markdown",
   "metadata": {},
   "source": [
    "1. List Tasks\n",
    "\n",
    "1.1 Count Occurrences: Given a list and an element, find how many times the element appears in the list.\n",
    "\n",
    "1.2 Sum of Elements: Given a list of numbers, calculate the total of all the elements.\n",
    "\n",
    "1.3 Max Element: From a given list, determine the largest element.\n",
    "\n",
    "1.4 Min Element: From a given list, determine the smallest element.\n",
    "\n",
    "1.5 Check Element: Given a list and an element, check if the element is present in the list."
   ]
  },
  {
   "cell_type": "code",
   "execution_count": 66,
   "metadata": {},
   "outputs": [
    {
     "name": "stdout",
     "output_type": "stream",
     "text": [
      "3\n"
     ]
    }
   ],
   "source": [
    "# 1.1\n",
    "list = ['abs', 'elem', 'abs', 'Atletico', 'De', 'Madrid', 'abs']\n",
    "n = list.count('abs')\n",
    "print(n)"
   ]
  },
  {
   "cell_type": "code",
   "execution_count": 4,
   "metadata": {},
   "outputs": [
    {
     "data": {
      "text/plain": [
       "0.20000000000000018"
      ]
     },
     "execution_count": 4,
     "metadata": {},
     "output_type": "execute_result"
    }
   ],
   "source": [
    "# 1.2\n",
    "lst = [1, 2.2, -3.0]\n",
    "sum(lst)"
   ]
  },
  {
   "cell_type": "code",
   "execution_count": 5,
   "metadata": {},
   "outputs": [
    {
     "name": "stdout",
     "output_type": "stream",
     "text": [
      "2\n"
     ]
    }
   ],
   "source": [
    "# 1.3\n",
    "lst = [-98, 2, 0.28, 1.998]\n",
    "print(max(lst))"
   ]
  },
  {
   "cell_type": "code",
   "execution_count": 6,
   "metadata": {},
   "outputs": [
    {
     "name": "stdout",
     "output_type": "stream",
     "text": [
      "-98\n"
     ]
    }
   ],
   "source": [
    "# 1.4\n",
    "lst = [-98, 2, 0.28, 1.998]\n",
    "print(min(lst))"
   ]
  },
  {
   "cell_type": "code",
   "execution_count": 9,
   "metadata": {},
   "outputs": [
    {
     "name": "stdout",
     "output_type": "stream",
     "text": [
      "True\n",
      "False\n"
     ]
    }
   ],
   "source": [
    "# 1.5\n",
    "lst = ['olma', 'Antuan Griezmann', 'noutbuk', 'Myself']\n",
    "print('Myself' in lst)\n",
    "print('Trump' in lst)"
   ]
  },
  {
   "cell_type": "markdown",
   "metadata": {},
   "source": [
    "1.6 First Element: Access the first element of a list, considering what to return if the list is empty.\n",
    "\n",
    "1.7 Last Element: Access the last element of a list, considering what to return if the list is empty.\n",
    "\n",
    "1.8 Slice List: Create a new list that contains only the first three elements of the original list.\n",
    "\n",
    "1.9 Reverse List: Create a new list that contains the elements of the original list in reverse order.\n",
    "\n",
    "1.10 Sort List: Create a new list that contains the elements of the original list in sorted order."
   ]
  },
  {
   "cell_type": "code",
   "execution_count": 16,
   "metadata": {},
   "outputs": [
    {
     "name": "stdout",
     "output_type": "stream",
     "text": [
      "first el of lst_1 is: \"olma\"\n"
     ]
    }
   ],
   "source": [
    "# 1.6\n",
    "lst_1 = ['olma', 'Antuan Griezmann', 'noutbuk', 'Myself']\n",
    "lst_2 = []\n",
    "print(f'the first el of lst_1 is: \"{lst_1[0]}\"')\n",
    "# print(f'the first el of lst_2 is {lst_2[0]}') # list index out of range error\n"
   ]
  },
  {
   "cell_type": "code",
   "execution_count": 19,
   "metadata": {},
   "outputs": [
    {
     "name": "stdout",
     "output_type": "stream",
     "text": [
      "the last el of lst_1 is: \"Myself\"\n"
     ]
    }
   ],
   "source": [
    "# 1.7\n",
    "lst_1 = ['olma', 'Antuan Griezmann', 'noutbuk', 'Myself']\n",
    "lst_2 = []\n",
    "print(f'the last el of lst_1 is: \"{lst_1[-1]}\"')\n",
    "# print(f'the last el of lst_2 is {lst_2[-1]}') # list index out of range error"
   ]
  },
  {
   "cell_type": "code",
   "execution_count": 21,
   "metadata": {},
   "outputs": [
    {
     "name": "stdout",
     "output_type": "stream",
     "text": [
      "['olma', 'Antuan Griezmann', 'noutbuk']\n"
     ]
    }
   ],
   "source": [
    "# 1.8\n",
    "lst_1 = ['olma', 'Antuan Griezmann', 'noutbuk', 'Myself']\n",
    "lst_2 = lst_1[0:3]\n",
    "print(lst_2)"
   ]
  },
  {
   "cell_type": "code",
   "execution_count": 22,
   "metadata": {},
   "outputs": [
    {
     "name": "stdout",
     "output_type": "stream",
     "text": [
      "['Myself', 'noutbuk', 'Antuan Griezmann', 'olma']\n"
     ]
    }
   ],
   "source": [
    "# 1.9\n",
    "lst_1 = ['olma', 'Antuan Griezmann', 'noutbuk', 'Myself']\n",
    "lst_2 = lst_1[::-1]\n",
    "print(lst_2)"
   ]
  },
  {
   "cell_type": "code",
   "execution_count": 33,
   "metadata": {},
   "outputs": [
    {
     "name": "stdout",
     "output_type": "stream",
     "text": [
      "unsorted list: ['olma', 'Antuan Griezmann', 'noutbuk', 'Myself', 'Zara', 'zorro', 'A']\n",
      "['A', 'Antuan Griezmann', 'Myself', 'Zara', 'noutbuk', 'olma', 'zorro']\n"
     ]
    }
   ],
   "source": [
    "#1.10\n",
    "lst_1 = ['olma', 'Antuan Griezmann', 'noutbuk', 'Myself', 'Zara', 'zorro', 'A']\n",
    "lst_2 = sorted(lst_1)\n",
    "print(f'unsorted list: {lst_1}')\n",
    "print(lst_2)"
   ]
  },
  {
   "cell_type": "markdown",
   "metadata": {},
   "source": [
    "1.11 Remove Duplicates: Given a list, create a new list that contains only unique elements from the original list.\n",
    "\n",
    "1.12 Insert Element: Given a list and an element, insert the element at a specified index.\n",
    "\n",
    "1.13 Index of Element: Given a list and an element, find the index of the first occurrence of the element.\n",
    "\n",
    "1.14 Check for Empty List: Determine if a list is empty and return a boolean.\n",
    "\n",
    "1.15 Count Even Numbers: Given a list of integers, count how many of them are even."
   ]
  },
  {
   "cell_type": "code",
   "execution_count": 34,
   "metadata": {},
   "outputs": [
    {
     "name": "stdout",
     "output_type": "stream",
     "text": [
      "['A', 'Antuan Griezmann', 'noutbuk', 'zorro', 'Zara', 'Myself', 'olma']\n"
     ]
    }
   ],
   "source": [
    "# 1.11\n",
    "lst_1 = ['olma', 'Antuan Griezmann', 'Zara', 'noutbuk', 'Myself', 'Zara', 'olma', 'Antuan Griezmann', 'Zara', 'zorro', 'A']\n",
    "unique_lst = list(set(lst_1))\n",
    "print(unique_lst)\n"
   ]
  },
  {
   "cell_type": "code",
   "execution_count": 37,
   "metadata": {},
   "outputs": [
    {
     "name": "stdout",
     "output_type": "stream",
     "text": [
      "['A', 'Antuan Griezmann', 'noutbuk', \"to'rtinchi element\", 'zorro', 'Zara', 'Myself', 'olma']\n"
     ]
    }
   ],
   "source": [
    "# 1.12\n",
    "lst = ['A', 'Antuan Griezmann', 'noutbuk', 'zorro', 'Zara', 'Myself', 'olma']\n",
    "lst.insert(3, \"to'rtinchi element\")\n",
    "print(lst)"
   ]
  },
  {
   "cell_type": "code",
   "execution_count": 41,
   "metadata": {},
   "outputs": [
    {
     "name": "stdout",
     "output_type": "stream",
     "text": [
      "6\n"
     ]
    }
   ],
   "source": [
    "# 1.13\n",
    "lst_1 = ['olma', 'Antuan Griezmann', 'Zara', 'noutbuk', 'Myself', 'Zara', 'banana', 'Antuan Griezmann', 'Zara', 'zorro', 'A']\n",
    "index_el = lst_1.index('banana')\n",
    "print(index_el)\n"
   ]
  },
  {
   "cell_type": "code",
   "execution_count": 106,
   "metadata": {},
   "outputs": [
    {
     "name": "stdout",
     "output_type": "stream",
     "text": [
      "True False\n"
     ]
    }
   ],
   "source": [
    "# 1.14\n",
    "lst_1 = []\n",
    "lst_2 = [ 'Zara', 'banana', 'Antuan Griezmann']\n",
    "check1 = not lst_1\n",
    "check2 = not lst_2\n",
    "print(check1, check2)"
   ]
  },
  {
   "cell_type": "code",
   "execution_count": 51,
   "metadata": {},
   "outputs": [
    {
     "name": "stdout",
     "output_type": "stream",
     "text": [
      "4\n"
     ]
    }
   ],
   "source": [
    "# 1.15\n",
    "lst_num = [28, 51, 1098, 2, 7, 3, 1, 65, 68]\n",
    "even_lst = filter(lambda x: x % 2 ==0, lst_num)\n",
    "print(len(list(even_lst)))\n"
   ]
  },
  {
   "cell_type": "markdown",
   "metadata": {},
   "source": [
    "1.16 Count Odd Numbers: Given a list of integers, count how many of them are odd.\n",
    "\n",
    "1.17 Concatenate Lists: Given two lists, create a new list that combines both lists.\n",
    "\n",
    "1.18 Find Sublist: Given a list and a sublist, check if the sublist exists within the list.\n",
    "\n",
    "1.19 Replace Element: Given a list, replace the first occurrence of a specified element with another element.\n",
    "\n",
    "1.20 Find Second Largest: From a given list, find the second largest element."
   ]
  },
  {
   "cell_type": "code",
   "execution_count": 52,
   "metadata": {},
   "outputs": [
    {
     "name": "stdout",
     "output_type": "stream",
     "text": [
      "5\n"
     ]
    }
   ],
   "source": [
    "# 1.16\n",
    "lst_num = [28, 51, 1098, 2, 7, 3, 1, 65, 68]\n",
    "even_lst = filter(lambda x: x % 2 == 1, lst_num)\n",
    "print(len(list(even_lst)))"
   ]
  },
  {
   "cell_type": "code",
   "execution_count": 63,
   "metadata": {},
   "outputs": [
    {
     "name": "stdout",
     "output_type": "stream",
     "text": [
      "[28, 51, 1098, 2, 7, 3, 1, 65, 68, 'Zara', 'banana', 'Antuan Griezmann']\n",
      "[28, 51, 1098, 2, 7, 3, 1, 65, 68]\n"
     ]
    }
   ],
   "source": [
    "# 1.17\n",
    "lst_num = [28, 51, 1098, 2, 7, 3, 1, 65, 68]\n",
    "lst_2 = [ 'Zara', 'banana', 'Antuan Griezmann']\n",
    "lst_joined = lst_num + lst_2\n",
    "print(lst_joined)\n"
   ]
  },
  {
   "cell_type": "code",
   "execution_count": 104,
   "metadata": {},
   "outputs": [
    {
     "name": "stdout",
     "output_type": "stream",
     "text": [
      "True\n",
      "False\n"
     ]
    }
   ],
   "source": [
    "# 1.18\n",
    "list = [1, 65, 68, 'Zara', 'banana']\n",
    "sublist = [68, 'Zara', 'banana']\n",
    "sublist2 = [ 65, 'Zara']\n",
    "print(any(list[i:i+len(sublist)] == sublist for i in range(len(list) - len(sublist) + 1)))\n",
    "print(any(list[i:i+len(sublist2)] == sublist2 for i in range(len(list) - len(sublist2) + 1)))\n",
    "\n",
    "\n"
   ]
  },
  {
   "cell_type": "code",
   "execution_count": 107,
   "metadata": {},
   "outputs": [
    {
     "data": {
      "text/plain": [
       "[1, 'oltmish besh', 68, 'Zara', 65, 'banana']"
      ]
     },
     "execution_count": 107,
     "metadata": {},
     "output_type": "execute_result"
    }
   ],
   "source": [
    "# 1.19\n",
    "list = [1, 65, 68, 'Zara', 65, 'banana']\n",
    "list[list.index(65)] = 'oltmish besh'\n",
    "list\n"
   ]
  },
  {
   "cell_type": "code",
   "execution_count": 110,
   "metadata": {},
   "outputs": [
    {
     "name": "stdout",
     "output_type": "stream",
     "text": [
      "101\n"
     ]
    }
   ],
   "source": [
    "# 1.20\n",
    "list = [1, 65, 68, 101, 65, 205]\n",
    "list.remove(max(list))\n",
    "print(max(list))\n"
   ]
  }
 ],
 "metadata": {
  "kernelspec": {
   "display_name": "Python 3",
   "language": "python",
   "name": "python3"
  },
  "language_info": {
   "codemirror_mode": {
    "name": "ipython",
    "version": 3
   },
   "file_extension": ".py",
   "mimetype": "text/x-python",
   "name": "python",
   "nbconvert_exporter": "python",
   "pygments_lexer": "ipython3",
   "version": "3.11.6"
  }
 },
 "nbformat": 4,
 "nbformat_minor": 2
}
