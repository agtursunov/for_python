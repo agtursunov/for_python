{
 "cells": [
  {
   "cell_type": "markdown",
   "metadata": {},
   "source": [
    "1. List Tasks\n",
    "\n",
    "1.1 Count Occurrences: Given a list and an element, find how many times the element appears in the list.\n",
    "\n",
    "1.2 Sum of Elements: Given a list of numbers, calculate the total of all the elements.\n",
    "\n",
    "1.3 Max Element: From a given list, determine the largest element.\n",
    "\n",
    "1.4 Min Element: From a given list, determine the smallest element.\n",
    "\n",
    "1.5 Check Element: Given a list and an element, check if the element is present in the list."
   ]
  },
  {
   "cell_type": "code",
   "execution_count": 66,
   "metadata": {},
   "outputs": [
    {
     "name": "stdout",
     "output_type": "stream",
     "text": [
      "3\n"
     ]
    }
   ],
   "source": [
    "# 1.1\n",
    "list = ['abs', 'elem', 'abs', 'Atletico', 'De', 'Madrid', 'abs']\n",
    "n = list.count('abs')\n",
    "print(n)"
   ]
  },
  {
   "cell_type": "code",
   "execution_count": 4,
   "metadata": {},
   "outputs": [
    {
     "data": {
      "text/plain": [
       "0.20000000000000018"
      ]
     },
     "execution_count": 4,
     "metadata": {},
     "output_type": "execute_result"
    }
   ],
   "source": [
    "# 1.2\n",
    "lst = [1, 2.2, -3.0]\n",
    "sum(lst)"
   ]
  },
  {
   "cell_type": "code",
   "execution_count": 5,
   "metadata": {},
   "outputs": [
    {
     "name": "stdout",
     "output_type": "stream",
     "text": [
      "2\n"
     ]
    }
   ],
   "source": [
    "# 1.3\n",
    "lst = [-98, 2, 0.28, 1.998]\n",
    "print(max(lst))"
   ]
  },
  {
   "cell_type": "code",
   "execution_count": 6,
   "metadata": {},
   "outputs": [
    {
     "name": "stdout",
     "output_type": "stream",
     "text": [
      "-98\n"
     ]
    }
   ],
   "source": [
    "# 1.4\n",
    "lst = [-98, 2, 0.28, 1.998]\n",
    "print(min(lst))"
   ]
  },
  {
   "cell_type": "code",
   "execution_count": 9,
   "metadata": {},
   "outputs": [
    {
     "name": "stdout",
     "output_type": "stream",
     "text": [
      "True\n",
      "False\n"
     ]
    }
   ],
   "source": [
    "# 1.5\n",
    "lst = ['olma', 'Antuan Griezmann', 'noutbuk', 'Myself']\n",
    "print('Myself' in lst)\n",
    "print('Trump' in lst)"
   ]
  }
 ],
 "metadata": {
  "kernelspec": {
   "display_name": "Python 3",
   "language": "python",
   "name": "python3"
  },
  "language_info": {
   "codemirror_mode": {
    "name": "ipython",
    "version": 3
   },
   "file_extension": ".py",
   "mimetype": "text/x-python",
   "name": "python",
   "nbconvert_exporter": "python",
   "pygments_lexer": "ipython3",
   "version": "3.11.6"
  }
 },
 "nbformat": 4,
 "nbformat_minor": 2
}
