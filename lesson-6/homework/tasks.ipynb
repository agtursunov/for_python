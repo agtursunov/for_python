{
 "cells": [
  {
   "cell_type": "markdown",
   "metadata": {},
   "source": [
    "Zero Check Decorator\n",
    "Write a decorator function called check that verifies that the denominator is not equal to 0 and apply it to the following function:"
   ]
  },
  {
   "cell_type": "code",
   "execution_count": 19,
   "metadata": {},
   "outputs": [],
   "source": [
    "def check(div):\n",
    "    def wrapper(a, b):\n",
    "        if b != 0:\n",
    "            result = div(a, b)\n",
    "        else:\n",
    "            result = \"Denominator can't be zero\"\n",
    "        return result\n",
    "    return wrapper "
   ]
  },
  {
   "cell_type": "code",
   "execution_count": 20,
   "metadata": {},
   "outputs": [],
   "source": [
    "@check\n",
    "def div(a, b):\n",
    "   return a / b"
   ]
  },
  {
   "cell_type": "code",
   "execution_count": 24,
   "metadata": {},
   "outputs": [
    {
     "name": "stdout",
     "output_type": "stream",
     "text": [
      "3.0\n",
      "Denominator can't be zero\n"
     ]
    }
   ],
   "source": [
    "print(div(6, 2))\n",
    "print(div(-7, 0))"
   ]
  },
  {
   "cell_type": "markdown",
   "metadata": {},
   "source": [
    "Employee Records Manager\n",
    "\n",
    "Objective: Create a program to manage employee records using file handling.\n",
    "\n",
    "Tasks:"
   ]
  },
  {
   "cell_type": "markdown",
   "metadata": {},
   "source": [
    "1. File Creation and Data Entry\n",
    "\n",
    "    Create a file named \"employees.txt\".\n",
    "    Allow the user to add new employee records. Each record should have the following fields:\n",
    "        Employee ID, Name, Position, Salary"
   ]
  },
  {
   "cell_type": "code",
   "execution_count": 36,
   "metadata": {},
   "outputs": [
    {
     "name": "stdout",
     "output_type": "stream",
     "text": [
      "Enter the date in format \"Employee_ID Name Position Salary: \"\n"
     ]
    }
   ],
   "source": [
    "def new_records():\n",
    "    print('Enter the date in format \"Employee_ID Name Position Salary: \"')\n",
    "    employee_ID, name, position, salary = input().split()\n",
    "    \"\"\"employee_ID = input('Enter the Employee ID: ')\n",
    "    name = input('Enter the name: ')\n",
    "    position = input('Enter the position')\n",
    "    salary = input('Enter the salary')\"\"\"\n",
    "    info_list = [employee_ID, name, position, salary]\n",
    "    return info_list\n",
    "    \n",
    "with open('employees.txt', 'a') as f:\n",
    "    user_list = new_records()\n",
    "    f.write(f'{user_list[0]}, {user_list[1]}, {user_list[2]}, {user_list[3]}\\n')\n"
   ]
  },
  {
   "cell_type": "markdown",
   "metadata": {},
   "source": [
    "Menu Options\n",
    "\n",
    "Your program should present the following options:\n",
    "\n",
    "    1. Add new employee record\n",
    "    \n",
    "    2. View all employee records\n",
    "    \n",
    "    3. Search for an employee by Employee ID\n",
    "    \n",
    "    4. Update an employee's information\n",
    "    \n",
    "    5. Delete an employee record\n",
    "    \n",
    "    6. Exit\n",
    "\n",
    "Functional Requirements\n",
    "\n",
    "    Option 1: Append a new employee record to \"employees.txt\".\n",
    "    \n",
    "    Option 2: Display all employee records from \"employees.txt\".\n",
    "    \n",
    "    Option 3: Allow the user to search for an employee by Employee ID and display their details.\n",
    "    \n",
    "    Option 4: Update an employee’s information (name, position, or salary) based on the Employee ID.\n",
    "    \n",
    "    Option 5: Delete an employee's record from the file using the Employee ID.\n",
    "    \n",
    "    Option 6: Exit the program."
   ]
  },
  {
   "cell_type": "code",
   "execution_count": null,
   "metadata": {},
   "outputs": [],
   "source": [
    "def view_records():\n",
    "    f.read()\n",
    "def serach_employee_id():\n",
    "    id = input('Enter the id: ')\n",
    "    for line in f:\n",
    "        i = 0\n",
    "        while i != ',':\n",
    "            recorded_id += line[i] \n",
    "            i += 1\n",
    "        if recorded_id == id:\n",
    "            print(line)\n",
    "            break"
   ]
  }
 ],
 "metadata": {
  "kernelspec": {
   "display_name": "Python 3",
   "language": "python",
   "name": "python3"
  },
  "language_info": {
   "codemirror_mode": {
    "name": "ipython",
    "version": 3
   },
   "file_extension": ".py",
   "mimetype": "text/x-python",
   "name": "python",
   "nbconvert_exporter": "python",
   "pygments_lexer": "ipython3",
   "version": "3.11.6"
  }
 },
 "nbformat": 4,
 "nbformat_minor": 2
}
