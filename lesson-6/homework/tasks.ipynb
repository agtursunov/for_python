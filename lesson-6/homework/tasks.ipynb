{
 "cells": [
  {
   "cell_type": "markdown",
   "metadata": {},
   "source": [
    "Zero Check Decorator\n",
    "Write a decorator function called check that verifies that the denominator is not equal to 0 and apply it to the following function:"
   ]
  },
  {
   "cell_type": "code",
   "execution_count": 19,
   "metadata": {},
   "outputs": [],
   "source": [
    "def check(div):\n",
    "    def wrapper(a, b):\n",
    "        if b != 0:\n",
    "            result = div(a, b)\n",
    "        else:\n",
    "            result = \"Denominator can't be zero\"\n",
    "        return result\n",
    "    return wrapper "
   ]
  },
  {
   "cell_type": "code",
   "execution_count": 20,
   "metadata": {},
   "outputs": [],
   "source": [
    "@check\n",
    "def div(a, b):\n",
    "   return a / b"
   ]
  },
  {
   "cell_type": "code",
   "execution_count": 24,
   "metadata": {},
   "outputs": [
    {
     "name": "stdout",
     "output_type": "stream",
     "text": [
      "3.0\n",
      "Denominator can't be zero\n"
     ]
    }
   ],
   "source": [
    "print(div(6, 2))\n",
    "print(div(-7, 0))"
   ]
  },
  {
   "cell_type": "markdown",
   "metadata": {},
   "source": [
    "Employee Records Manager\n",
    "\n",
    "Objective: Create a program to manage employee records using file handling."
   ]
  },
  {
   "cell_type": "code",
   "execution_count": null,
   "metadata": {},
   "outputs": [],
   "source": []
  }
 ],
 "metadata": {
  "kernelspec": {
   "display_name": "Python 3",
   "language": "python",
   "name": "python3"
  },
  "language_info": {
   "codemirror_mode": {
    "name": "ipython",
    "version": 3
   },
   "file_extension": ".py",
   "mimetype": "text/x-python",
   "name": "python",
   "nbconvert_exporter": "python",
   "pygments_lexer": "ipython3",
   "version": "3.11.6"
  }
 },
 "nbformat": 4,
 "nbformat_minor": 2
}
