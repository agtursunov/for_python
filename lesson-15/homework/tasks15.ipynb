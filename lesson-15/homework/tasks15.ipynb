{
 "cells": [
  {
   "cell_type": "markdown",
   "metadata": {},
   "source": [
    "1. Create a vector with values ranging from 10 to 49."
   ]
  },
  {
   "cell_type": "code",
   "execution_count": 1,
   "metadata": {},
   "outputs": [
    {
     "name": "stdout",
     "output_type": "stream",
     "text": [
      "vector ranging 10-49: [10 11 12 13 14 15 16 17 18 19 20 21 22 23 24 25 26 27 28 29 30 31 32 33\n",
      " 34 35 36 37 38 39 40 41 42 43 44 45 46 47 48 49]\n"
     ]
    }
   ],
   "source": [
    "import numpy as np\n",
    "\n",
    "vector = np.arange(10, 50)\n",
    "print(\"vector ranging 10-49:\", vector)"
   ]
  },
  {
   "cell_type": "markdown",
   "metadata": {},
   "source": [
    "2. Create a 3x3 matrix with values ranging from 0 to 8."
   ]
  },
  {
   "cell_type": "code",
   "execution_count": 2,
   "metadata": {},
   "outputs": [
    {
     "name": "stdout",
     "output_type": "stream",
     "text": [
      "Matrix [[0 1 2]\n",
      " [3 4 5]\n",
      " [6 7 8]]\n"
     ]
    }
   ],
   "source": [
    "mat_3_X_3 = np.arange(9).reshape(3, 3)\n",
    "print(\"Matrix\", mat_3_X_3)"
   ]
  },
  {
   "cell_type": "markdown",
   "metadata": {},
   "source": [
    "3. Create a 3x3 identity matrix."
   ]
  },
  {
   "cell_type": "code",
   "execution_count": 3,
   "metadata": {},
   "outputs": [
    {
     "name": "stdout",
     "output_type": "stream",
     "text": [
      "Identity_Mat [[1. 0. 0.]\n",
      " [0. 1. 0.]\n",
      " [0. 0. 1.]]\n"
     ]
    }
   ],
   "source": [
    "\n",
    "identity_matrix = np.eye(3)\n",
    "print(\"Identity_Mat\", identity_matrix)"
   ]
  },
  {
   "cell_type": "markdown",
   "metadata": {},
   "source": [
    "4. Create a 10x10 array with random values and find the minimum and maximum values."
   ]
  },
  {
   "cell_type": "code",
   "execution_count": 7,
   "metadata": {},
   "outputs": [
    {
     "name": "stdout",
     "output_type": "stream",
     "text": [
      "10x10 Array: [[0.63755534 0.60871273 0.77059358 0.21422546 0.84670092 0.77299302\n",
      "  0.64968927 0.39356672 0.63634177 0.93052415]\n",
      " [0.45579196 0.18605912 0.9710736  0.91030642 0.56505612 0.23238719\n",
      "  0.90831364 0.90990716 0.09702616 0.641218  ]\n",
      " [0.93250515 0.58852541 0.43292021 0.77733029 0.12549088 0.94125988\n",
      "  0.47279973 0.71071314 0.72594611 0.03535292]\n",
      " [0.46181662 0.79232299 0.22550009 0.54381404 0.5601703  0.93293484\n",
      "  0.11688463 0.82459226 0.09041596 0.14332278]\n",
      " [0.95520805 0.21794393 0.64285437 0.53089538 0.32181806 0.9661678\n",
      "  0.37007258 0.77399633 0.41432002 0.5537085 ]\n",
      " [0.07361794 0.01357678 0.74196386 0.89325102 0.38869406 0.97770153\n",
      "  0.16113716 0.08538493 0.239646   0.96743544]\n",
      " [0.70248473 0.96440384 0.27694815 0.70325303 0.24758962 0.27634772\n",
      "  0.65331799 0.325617   0.19680907 0.7395447 ]\n",
      " [0.52894844 0.68951732 0.6846367  0.92152094 0.53018591 0.07615343\n",
      "  0.46788582 0.43340148 0.88162371 0.39566022]\n",
      " [0.82786539 0.75778986 0.3077091  0.430417   0.17347876 0.12336812\n",
      "  0.12482205 0.05914788 0.2682681  0.83614148]\n",
      " [0.07578064 0.12021671 0.05285203 0.98468614 0.33137951 0.08081199\n",
      "  0.97634264 0.12391547 0.88966241 0.09210528]]\n",
      "Min: 0.01357678379942262\n",
      "Max: 0.9846861389777878\n"
     ]
    }
   ],
   "source": [
    "array_10x10 = np.random.random((10, 10))\n",
    "min_value = np.min(array_10x10)\n",
    "max_value = np.max(array_10x10)\n",
    "print(\"10x10 Array:\", array_10x10)\n",
    "print(\"Min:\", min_value)\n",
    "print(\"Max:\", max_value)"
   ]
  },
  {
   "cell_type": "markdown",
   "metadata": {},
   "source": [
    "5. Create a 3x3x3 array with random values."
   ]
  },
  {
   "cell_type": "code",
   "execution_count": 6,
   "metadata": {},
   "outputs": [
    {
     "name": "stdout",
     "output_type": "stream",
     "text": [
      "Random: [[[0.64473496 0.88427642 0.5417012 ]\n",
      "  [0.45960128 0.29512606 0.86949107]\n",
      "  [0.53837651 0.90218154 0.24958653]]\n",
      "\n",
      " [[0.70945759 0.50743413 0.7975106 ]\n",
      "  [0.81522124 0.16484156 0.68364905]\n",
      "  [0.79348667 0.05785366 0.74860372]]\n",
      "\n",
      " [[0.80569568 0.89570245 0.50021941]\n",
      "  [0.83797475 0.2222001  0.2602242 ]\n",
      "  [0.92598913 0.17193382 0.47488359]]]\n"
     ]
    }
   ],
   "source": [
    "\n",
    "random_array = np.random.random((3, 3, 3))\n",
    "print(\"Random:\", random_array)"
   ]
  },
  {
   "cell_type": "markdown",
   "metadata": {},
   "source": [
    "6. Create a random vector of size 30 and find the mean value."
   ]
  },
  {
   "cell_type": "code",
   "execution_count": 8,
   "metadata": {},
   "outputs": [
    {
     "name": "stdout",
     "output_type": "stream",
     "text": [
      "Ran_Vector_30: [0.90724779 0.51362314 0.1440291  0.0991281  0.99117909 0.18690025\n",
      " 0.31421022 0.65739322 0.73763077 0.16227746 0.62924358 0.3117101\n",
      " 0.94102274 0.41370619 0.40540713 0.41241236 0.65087629 0.71890483\n",
      " 0.1731198  0.3777915  0.74723022 0.00350518 0.35931856 0.64521033\n",
      " 0.77810771 0.81479605 0.92564879 0.28150483 0.30951767 0.85453319]\n",
      "Mean_val: 0.5155728729430856\n"
     ]
    }
   ],
   "source": [
    "vector_30 = np.random.random(30)\n",
    "mean_val = np.mean(vector_30)\n",
    "print(\"Ran_Vector_30:\", vector_30)\n",
    "print(\"Mean_val:\", mean_val)"
   ]
  },
  {
   "cell_type": "markdown",
   "metadata": {},
   "source": [
    "7. Normalize a 5x5 random matrix."
   ]
  },
  {
   "cell_type": "code",
   "execution_count": 9,
   "metadata": {},
   "outputs": [
    {
     "name": "stdout",
     "output_type": "stream",
     "text": [
      "\n",
      "Norm_Mat:\n",
      " [[0.71169908 0.34662964 0.21374952 0.7935317  0.05929783]\n",
      " [0.3785717  0.88408241 0.02858149 1.         0.94734766]\n",
      " [0.31760277 0.71695979 0.11078447 0.05382993 0.37643987]\n",
      " [0.         0.68187599 0.05476557 0.40559683 0.90841581]\n",
      " [0.80456914 0.83590086 0.00544069 0.36150475 0.28455104]]\n"
     ]
    }
   ],
   "source": [
    "matrix_5x5 = np.random.random((5, 5))\n",
    "norm_mat = (matrix_5x5 - np.min(matrix_5x5)) / (np.max(matrix_5x5) - np.min(matrix_5x5))\n",
    "print(\"\\nNorm_Mat:\\n\", norm_mat)"
   ]
  },
  {
   "cell_type": "markdown",
   "metadata": {},
   "source": [
    "8. Multiply a 5x3 matrix by a 3x2 matrix (real matrix product)."
   ]
  },
  {
   "cell_type": "code",
   "execution_count": 10,
   "metadata": {},
   "outputs": [
    {
     "name": "stdout",
     "output_type": "stream",
     "text": [
      "real_mat: [[1.10213016 0.45878807]\n",
      " [0.85315255 0.33304802]\n",
      " [1.3772659  0.5551743 ]\n",
      " [0.66410129 0.27115188]\n",
      " [2.07235638 0.86783581]]\n"
     ]
    }
   ],
   "source": [
    "mat_5x3 = np.random.random((5, 3))\n",
    "mat_3x2 = np.random.random((3, 2))\n",
    "result = np.dot(mat_5x3, mat_3x2)\n",
    "print(\"real_mat:\", result)"
   ]
  },
  {
   "cell_type": "markdown",
   "metadata": {},
   "source": [
    "9. Create two 3x3 matrices and compute their dot product.\n",
    "10. Given a 4x4 matrix, find its transpose.\n",
    "11. Create a 3x3 matrix and calculate its determinant.\n",
    "12. Create two matrices ( A ) (3x4) and ( B ) (4x3), and compute the matrix product ( A \\cdot B ).\n",
    "13. Create a 3x3 random matrix and a 3-element column vector. Compute the matrix-vector product.\n",
    "14. Solve the linear system ( Ax = b ) where ( A ) is a 3x3 matrix, and ( b ) is a 3x1 column vector.\n",
    "15. Given a 5x5 matrix, find the row-wise and column-wise sums."
   ]
  },
  {
   "cell_type": "code",
   "execution_count": 14,
   "metadata": {},
   "outputs": [
    {
     "name": "stdout",
     "output_type": "stream",
     "text": [
      "Dot Product: [[0.76187191 0.87528845 0.89385642]\n",
      " [0.67373748 0.98244672 1.17503009]\n",
      " [0.74855861 0.5302384  0.60537453]]\n",
      "Transp: [[0.86781768 0.38426544 0.89523533 0.94481791]\n",
      " [0.14967748 0.63533466 0.40878789 0.4220874 ]\n",
      " [0.98134846 0.35862673 0.30965136 0.87082986]\n",
      " [0.70686264 0.99446237 0.29230648 0.56282566]]\n",
      "Determinant: 0.012213889677995787\n",
      "Matrix Product of A (3x4) and B (4x3): [[0.1966094  0.65904477 0.32128844]\n",
      " [0.45253406 0.5157855  0.39701825]\n",
      " [1.0779348  1.09112079 0.97191564]]\n",
      "Matrix-Vector: [0.28611378 0.55702443 0.76960411]\n",
      "Javob: [-0.13747574  0.69715145  0.20271102]\n",
      "stroka: [2.57770379 2.79303731 2.60713257 2.16680799 1.51446203]\n",
      "stolbtsi:\n",
      " [2.08457632 3.0539801  2.749491   2.08657626 1.68452   ]\n"
     ]
    }
   ],
   "source": [
    "\n",
    "mat_A = np.random.random((3, 3))\n",
    "mat_B = np.random.random((3, 3))\n",
    "dot_product = np.dot(mat_A, mat_B)\n",
    "print(\"Dot Product:\", dot_product)\n",
    "\n",
    "matrix_4x4 = np.random.random((4, 4))\n",
    "transp_matrix = matrix_4x4.T\n",
    "print(\"Transp:\", transp_matrix)\n",
    "\n",
    "matrix_3x3 = np.random.random((3, 3))\n",
    "det = np.linalg.det(matrix_3x3)\n",
    "print(\"Determinant:\", det)\n",
    "\n",
    "mat_A_3x4 = np.random.random((3, 4))\n",
    "mat_B_4x3 = np.random.random((4, 3))\n",
    "matrix_product = np.dot(mat_A_3x4, mat_B_4x3)\n",
    "print(\"Matrix Product of A (3x4) and B (4x3):\", matrix_product)\n",
    "\n",
    "mat_3x3 = np.random.random((3, 3))\n",
    "vec = np.random.random(3)\n",
    "mat_vec_prd = np.dot(mat_3x3, vec)\n",
    "print(\"Matrix-Vector:\", mat_vec_prd)\n",
    "\n",
    "A = np.random.random((3, 3))\n",
    "b = np.random.random(3)\n",
    "x = np.linalg.solve(A, b)\n",
    "print(\"Javob:\", x)\n",
    "\n",
    "mat = np.random.random((5, 5))\n",
    "row_sum = np.sum(mat, axis=1)\n",
    "column_sum = np.sum(mat, axis=0)\n",
    "print(\"stroka:\", row_sum)\n",
    "print(\"stolbtsi:\\n\", column_sum)\n"
   ]
  }
 ],
 "metadata": {
  "kernelspec": {
   "display_name": "Python 3",
   "language": "python",
   "name": "python3"
  },
  "language_info": {
   "codemirror_mode": {
    "name": "ipython",
    "version": 3
   },
   "file_extension": ".py",
   "mimetype": "text/x-python",
   "name": "python",
   "nbconvert_exporter": "python",
   "pygments_lexer": "ipython3",
   "version": "3.11.6"
  }
 },
 "nbformat": 4,
 "nbformat_minor": 2
}
