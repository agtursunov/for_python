{
 "cells": [
  {
   "cell_type": "markdown",
   "metadata": {},
   "source": [
    "1 Number Data Type Questions:\n",
    "\n",
    "1.1 Create a program that takes a float number as input and rounds it to 2 decimal places.\n",
    "\n",
    "1.2 Write a Python file that asks for three numbers and outputs the largest and smallest.\n",
    "\n",
    "1.3 Create a program that converts kilometers to meters and centimeters.\n",
    "\n",
    "1.4 Write a program that takes two numbers and prints out the result of integer division and the remainder.\n",
    "\n",
    "1.5 Make a program that converts a given Celsius temperature to Fahrenheit.\n",
    "\n",
    "1.6 Create a program that accepts a number and returns the last digit of that number.\n",
    "\n",
    "1.7 Create a program that takes a number and checks if it’s even or not"
   ]
  },
  {
   "cell_type": "code",
   "execution_count": null,
   "metadata": {},
   "outputs": [],
   "source": [
    "# 1.1\n",
    "f = float(input())\n",
    "rounded_f = round(f, 2)\n",
    "print(rounded_f)"
   ]
  },
  {
   "cell_type": "code",
   "execution_count": null,
   "metadata": {},
   "outputs": [],
   "source": [
    "# 1.2\n",
    "a = float(input())\n",
    "b = float(input())\n",
    "c = float(input())\n",
    "\n",
    "print('The largest number is: ')\n",
    "\n",
    "if a >= b and a >= c:\n",
    "    print(a)\n",
    "elif b >= a and b >= c:\n",
    "    print(b)\n",
    "elif c >= a and c >= b:\n",
    "    print(c)\n",
    "print('The smallest number is: ')\n",
    "\n",
    "if a <= b and a <= c:\n",
    "    print(a)\n",
    "elif b <= a and b <= c:\n",
    "    print(b)\n",
    "elif c <= a and c <= b:\n",
    "    print(c)\n"
   ]
  },
  {
   "cell_type": "code",
   "execution_count": null,
   "metadata": {},
   "outputs": [],
   "source": [
    "# 1.3\n",
    "km = float(input())\n",
    "\n",
    "m = km * 1000\n",
    "sm = m * 100\n",
    "\n",
    "print(m, sm)"
   ]
  },
  {
   "cell_type": "code",
   "execution_count": null,
   "metadata": {},
   "outputs": [],
   "source": [
    "# 1.4\n",
    "x = float(input())\n",
    "y = float(input())\n",
    "\n",
    "int_div = x // y\n",
    "remainder = x % y\n",
    "\n",
    "print(f'int_div = {int_div}, remainder = {remainder} ')\n"
   ]
  },
  {
   "cell_type": "code",
   "execution_count": null,
   "metadata": {},
   "outputs": [],
   "source": [
    "# 1.5\n",
    "cel = float(input())\n",
    "fah = cel * 1.8 + 32\n",
    "print(fah)"
   ]
  },
  {
   "cell_type": "code",
   "execution_count": null,
   "metadata": {},
   "outputs": [],
   "source": [
    "# 1.6\n",
    "a = float(input())\n",
    "last_digit = str(a)[-1]\n",
    "print(last_digit)"
   ]
  },
  {
   "cell_type": "code",
   "execution_count": null,
   "metadata": {},
   "outputs": [],
   "source": [
    "# 1.7\n",
    "a = int(input())\n",
    "if a % 2 == 0:\n",
    "    print(f'{a} is even')\n",
    "else:\n",
    "    print(f'{a} is not even')"
   ]
  },
  {
   "cell_type": "markdown",
   "metadata": {},
   "source": [
    "2 String Questions:\n",
    "2.1 Create a program to ask name and year of birth from user and tell them their age. \n",
    "\n",
    "2.2 Extract car names from this text: txt = 'LMaasleitbtui'\n",
    "\n",
    "2.3 Write a Python program to:\n",
    "\n",
    "    Take a string input from the user.\n",
    "    Print the length of the string.\n",
    "    Convert the string to uppercase and lowercase.\n",
    "\n",
    "2.4 Write a Python program to check if a given string is palindrome or not.\n",
    "\n",
    "    What is a Palindrome String? A string is called a palindrome if the reverse of the string is the same as the original one. Example: “madam”, “racecar”, “12321”.\n",
    "\n",
    "2.5 Write a program that counts the number of vowels and consonants in a given string.\n",
    "\n",
    "2.6 Write a Python program to check if one string contains another.\n",
    "\n",
    "2.7 Ask the user to input a sentence and a word to replace. Replace that word with another word provided by the user.\n",
    "Example:\n",
    "    Input sentence: \"I love apples.\"\n",
    "    Replace: \"apples\"\n",
    "    With: \"oranges\"\n",
    "    Output: \"I love oranges.\"\n",
    "2.8 Write a program that asks the user for a string and prints the first and last characters of the string.\n",
    "\n",
    "2.9 Ask the user for a string and print the reversed version of it.\n",
    "\n",
    "2.10 Write a program that asks the user for a sentence and prints the number of words in it.\n",
    "\n",
    "2.11 Write a program to check if a string contains any digits.\n",
    "\n",
    "2.12 Write a program that takes a list of words and joins them into a single string, separated by a character (e.g., - or ,).\n",
    "\n",
    "2.13 Ask the user for a string and remove all spaces from it.\n",
    "\n",
    "2.14 Write a program to ask for two strings and check if they are equal or not.\n",
    "\n",
    "2.15 Ask the user for a sentence and create an acronym from the first letters of each word.\n",
    "Example:\n",
    "    Input: \"World Health Organization\"\n",
    "    Output: \"WHO\"\n",
    "\n",
    "2.16 Write a program that asks the user for a string and a character, then removes all occurrences of that character from the string.\n",
    "\n",
    "2.17 Ask the user for a string and replace all the vowels with a symbol (e.g., *).\n",
    "\n",
    "2.18 Write a program that checks if a string starts with one word and ends with another.\n",
    "Example:\n",
    "    Input: \"Python is fun!\"\n",
    "    Starts with: \"Python\"\n",
    "    Ends with: \"fun!\""
   ]
  },
  {
   "cell_type": "code",
   "execution_count": null,
   "metadata": {},
   "outputs": [],
   "source": [
    "# 2.1\n",
    "a = input('Enter your name: ')\n",
    "b = int(input('Enter your year of birth: '))\n",
    "print(f'{a}, you are {2024 - b} years old!')"
   ]
  },
  {
   "cell_type": "code",
   "execution_count": null,
   "metadata": {},
   "outputs": [],
   "source": [
    "# 2.2\n",
    "txt = 'LMaasleitbtui'\n",
    "\n",
    "car_name = ''\n",
    "car_name += txt[1:3]\n",
    "car_name += txt[5]\n",
    "car_name += txt[7]\n",
    "car_name += txt[9]\n",
    "car_name += txt[11]\n",
    "\n",
    "print(car_name)"
   ]
  },
  {
   "cell_type": "code",
   "execution_count": null,
   "metadata": {},
   "outputs": [],
   "source": [
    "# 2.3\n",
    "str_1 = input()\n",
    "print(len(str_1))\n",
    "print(str_1.upper(),' - ', str_1.lower() )"
   ]
  },
  {
   "cell_type": "code",
   "execution_count": null,
   "metadata": {},
   "outputs": [],
   "source": [
    "# 2.4\n",
    "st = input()\n",
    "if st == st[::-1]:\n",
    "    print(f'{st} is polindrom')\n",
    "else:\n",
    "    print(f'{st} is not polindrom')"
   ]
  },
  {
   "cell_type": "code",
   "execution_count": null,
   "metadata": {},
   "outputs": [],
   "source": [
    "# 2.5\n",
    "given_st = input()\n",
    "print(given_st)\n",
    "vowels = 0\n",
    "consonants = 0\n",
    "for i in given_st.lower():\n",
    "    if i.isalpha(): # isalpha() agar belgi(char) alfavitga tegishli bo'lsa, true qiymat qaytaradi\n",
    "        if i in ['a', 'e', 'u', 'o', 'i', 'y']:\n",
    "            vowels += 1\n",
    "        else:\n",
    "            consonants += 1\n",
    "print(f'vowels is {vowels}, consonants is {consonants}')\n"
   ]
  },
  {
   "cell_type": "code",
   "execution_count": null,
   "metadata": {},
   "outputs": [],
   "source": [
    "# 2.6\n",
    "frt_st = input()\n",
    "sc_st = input()\n",
    "if frt_st in sc_st:\n",
    "    print(f\"'{sc_st}' contains '{frt_st}'\")\n",
    "elif sc_st in frt_st:\n",
    "    print(f\"'{frt_st}' contains '{sc_st}'\")\n",
    "else:\n",
    "    pass\n"
   ]
  }
 ],
 "metadata": {
  "kernelspec": {
   "display_name": "Python 3",
   "language": "python",
   "name": "python3"
  },
  "language_info": {
   "codemirror_mode": {
    "name": "ipython",
    "version": 3
   },
   "file_extension": ".py",
   "mimetype": "text/x-python",
   "name": "python",
   "nbconvert_exporter": "python",
   "pygments_lexer": "ipython3",
   "version": "3.11.6"
  }
 },
 "nbformat": 4,
 "nbformat_minor": 2
}
