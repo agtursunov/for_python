{
 "cells": [
  {
   "cell_type": "markdown",
   "metadata": {},
   "source": [
    "1 Number Data Type Questions:\n",
    "\n",
    "1.1 Create a program that takes a float number as input and rounds it to 2 decimal places.\n",
    "\n",
    "1.2 Write a Python file that asks for three numbers and outputs the largest and smallest.\n",
    "\n",
    "1.3 Create a program that converts kilometers to meters and centimeters.\n",
    "\n",
    "1.4 Write a program that takes two numbers and prints out the result of integer division and the remainder.\n",
    "\n",
    "1.5 Make a program that converts a given Celsius temperature to Fahrenheit.\n",
    "\n",
    "1.6 Create a program that accepts a number and returns the last digit of that number.\n",
    "\n",
    "1.7 Create a program that takes a number and checks if it’s even or not"
   ]
  },
  {
   "cell_type": "code",
   "execution_count": 2,
   "metadata": {},
   "outputs": [
    {
     "name": "stdout",
     "output_type": "stream",
     "text": [
      "2.19\n"
     ]
    }
   ],
   "source": [
    "# 1.1\n",
    "f = float(input())\n",
    "rounded_f = round(f, 2)\n",
    "print(rounded_f)"
   ]
  },
  {
   "cell_type": "code",
   "execution_count": 3,
   "metadata": {},
   "outputs": [
    {
     "name": "stdout",
     "output_type": "stream",
     "text": [
      "The largest number is: \n",
      "956.21\n",
      "The smallest number is: \n",
      "-15.0\n"
     ]
    }
   ],
   "source": [
    "# 1.2\n",
    "a = float(input())\n",
    "b = float(input())\n",
    "c = float(input())\n",
    "\n",
    "print('The largest number is: ')\n",
    "\n",
    "if a >= b and a >= c:\n",
    "    print(a)\n",
    "elif b >= a and b >= c:\n",
    "    print(b)\n",
    "elif c >= a and c >= b:\n",
    "    print(c)\n",
    "print('The smallest number is: ')\n",
    "\n",
    "if a <= b and a <= c:\n",
    "    print(a)\n",
    "elif b <= a and b <= c:\n",
    "    print(b)\n",
    "elif c <= a and c <= b:\n",
    "    print(c)\n"
   ]
  },
  {
   "cell_type": "code",
   "execution_count": 4,
   "metadata": {},
   "outputs": [
    {
     "name": "stdout",
     "output_type": "stream",
     "text": [
      "16300.0 1630000.0\n"
     ]
    }
   ],
   "source": [
    "# 1.3\n",
    "km = float(input())\n",
    "\n",
    "m = km * 1000\n",
    "sm = m * 100\n",
    "\n",
    "print(m, sm)"
   ]
  },
  {
   "cell_type": "code",
   "execution_count": 5,
   "metadata": {},
   "outputs": [
    {
     "name": "stdout",
     "output_type": "stream",
     "text": [
      "int_div = 9.0, remainder = 4.250000000000002 \n"
     ]
    }
   ],
   "source": [
    "# 1.4\n",
    "x = float(input())\n",
    "y = float(input())\n",
    "\n",
    "int_div = x // y\n",
    "remainder = x % y\n",
    "\n",
    "print(f'int_div = {int_div}, remainder = {remainder} ')\n"
   ]
  },
  {
   "cell_type": "code",
   "execution_count": 6,
   "metadata": {},
   "outputs": [
    {
     "name": "stdout",
     "output_type": "stream",
     "text": [
      "102.2\n"
     ]
    }
   ],
   "source": [
    "# 1.5\n",
    "cel = float(input())\n",
    "fah = cel * 1.8 + 32\n",
    "print(fah)"
   ]
  },
  {
   "cell_type": "code",
   "execution_count": 7,
   "metadata": {},
   "outputs": [
    {
     "name": "stdout",
     "output_type": "stream",
     "text": [
      "6\n"
     ]
    }
   ],
   "source": [
    "# 1.6\n",
    "a = float(input())\n",
    "last_digit = str(a)[-1]\n",
    "print(last_digit)"
   ]
  },
  {
   "cell_type": "code",
   "execution_count": 8,
   "metadata": {},
   "outputs": [
    {
     "name": "stdout",
     "output_type": "stream",
     "text": [
      "95 is not even\n"
     ]
    }
   ],
   "source": [
    "# 1.7\n",
    "a = int(input())\n",
    "if a % 2 == 0:\n",
    "    print(f'{a} is even')\n",
    "else:\n",
    "    print(f'{a} is not even')"
   ]
  },
  {
   "cell_type": "markdown",
   "metadata": {},
   "source": [
    "2 String Questions:\n",
    "2.1 Create a program to ask name and year of birth from user and tell them their age. \n",
    "\n",
    "2.2 Extract car names from this text: txt = 'LMaasleitbtui'\n",
    "\n",
    "2.3 Write a Python program to:\n",
    "\n",
    "    Take a string input from the user.\n",
    "    Print the length of the string.\n",
    "    Convert the string to uppercase and lowercase.\n",
    "\n",
    "2.4 Write a Python program to check if a given string is palindrome or not.\n",
    "\n",
    "    What is a Palindrome String? A string is called a palindrome if the reverse of the string is the same as the original one. Example: “madam”, “racecar”, “12321”.\n",
    "\n",
    "2.5 Write a program that counts the number of vowels and consonants in a given string.\n",
    "\n",
    "2.6 Write a Python program to check if one string contains another.\n",
    "\n",
    "2.7 Ask the user to input a sentence and a word to replace. Replace that word with another word provided by the user.\n",
    "Example:\n",
    "    Input sentence: \"I love apples.\"\n",
    "    Replace: \"apples\"\n",
    "    With: \"oranges\"\n",
    "    Output: \"I love oranges.\"\n",
    "    \n",
    "2.8 Write a program that asks the user for a string and prints the first and last characters of the string.\n",
    "\n",
    "2.9 Ask the user for a string and print the reversed version of it.\n",
    "\n",
    "2.10 Write a program that asks the user for a sentence and prints the number of words in it.\n",
    "\n",
    "2.11 Write a program to check if a string contains any digits.\n",
    "\n",
    "2.12 Write a program that takes a list of words and joins them into a single string, separated by a character (e.g., - or ,).\n",
    "\n",
    "2.13 Ask the user for a string and remove all spaces from it.\n",
    "\n",
    "2.14 Write a program to ask for two strings and check if they are equal or not.\n",
    "\n",
    "2.15 Ask the user for a sentence and create an acronym from the first letters of each word.\n",
    "Example:\n",
    "    Input: \"World Health Organization\"\n",
    "    Output: \"WHO\"\n",
    "\n",
    "2.16 Write a program that asks the user for a string and a character, then removes all occurrences of that character from the string.\n",
    "\n",
    "2.17 Ask the user for a string and replace all the vowels with a symbol (e.g., *).\n",
    "\n",
    "2.18 Write a program that checks if a string starts with one word and ends with another.\n",
    "Example:\n",
    "    Input: \"Python is fun!\"\n",
    "    Starts with: \"Python\"\n",
    "    Ends with: \"fun!\""
   ]
  },
  {
   "cell_type": "code",
   "execution_count": 9,
   "metadata": {},
   "outputs": [
    {
     "name": "stdout",
     "output_type": "stream",
     "text": [
      "Azizbek, you are 21 years old!\n"
     ]
    }
   ],
   "source": [
    "# 2.1\n",
    "a = input('Enter your name: ')\n",
    "b = int(input('Enter your year of birth: '))\n",
    "print(f'{a}, you are {2024 - b} years old!')"
   ]
  },
  {
   "cell_type": "code",
   "execution_count": 10,
   "metadata": {},
   "outputs": [
    {
     "name": "stdout",
     "output_type": "stream",
     "text": [
      "Malibu\n"
     ]
    }
   ],
   "source": [
    "# 2.2\n",
    "txt = 'LMaasleitbtui'\n",
    "\n",
    "car_name = ''\n",
    "car_name += txt[1:3]\n",
    "car_name += txt[5]\n",
    "car_name += txt[7]\n",
    "car_name += txt[9]\n",
    "car_name += txt[11]\n",
    "\n",
    "print(car_name)"
   ]
  },
  {
   "cell_type": "code",
   "execution_count": 11,
   "metadata": {},
   "outputs": [
    {
     "name": "stdout",
     "output_type": "stream",
     "text": [
      "19\n",
      "THIS IS TEST STRING  -  this is test string\n"
     ]
    }
   ],
   "source": [
    "# 2.3\n",
    "str_1 = input()\n",
    "print(len(str_1))\n",
    "print(str_1.upper(),' - ', str_1.lower() )"
   ]
  },
  {
   "cell_type": "code",
   "execution_count": 12,
   "metadata": {},
   "outputs": [
    {
     "name": "stdout",
     "output_type": "stream",
     "text": [
      "madam is polindrom\n"
     ]
    }
   ],
   "source": [
    "# 2.4\n",
    "st = input()\n",
    "if st == st[::-1]:\n",
    "    print(f'{st} is polindrom')\n",
    "else:\n",
    "    print(f'{st} is not polindrom')"
   ]
  },
  {
   "cell_type": "code",
   "execution_count": 13,
   "metadata": {},
   "outputs": [
    {
     "name": "stdout",
     "output_type": "stream",
     "text": [
      "This is a test string for problem two point five\n",
      "vowels is 13, consonants is 26\n"
     ]
    }
   ],
   "source": [
    "# 2.5\n",
    "given_st = input()\n",
    "print(given_st)\n",
    "vowels = 0\n",
    "consonants = 0\n",
    "for i in given_st.lower():\n",
    "    if i.isalpha(): # isalpha() agar belgi(char) alfavitga tegishli bo'lsa, true qiymat qaytaradi\n",
    "        if i in ['a', 'e', 'u', 'o', 'i', 'y']:\n",
    "            vowels += 1\n",
    "        else:\n",
    "            consonants += 1\n",
    "print(f'vowels is {vowels}, consonants is {consonants}')\n"
   ]
  },
  {
   "cell_type": "code",
   "execution_count": 15,
   "metadata": {},
   "outputs": [
    {
     "name": "stdout",
     "output_type": "stream",
     "text": [
      "'Azizbek Tursunov' contains 'Azizbek'\n"
     ]
    }
   ],
   "source": [
    "# 2.6\n",
    "frt_st = input()\n",
    "sc_st = input()\n",
    "if frt_st in sc_st:\n",
    "    print(f\"'{sc_st}' contains '{frt_st}'\")\n",
    "elif sc_st in frt_st:\n",
    "    print(f\"'{frt_st}' contains '{sc_st}'\")\n",
    "else:\n",
    "    pass\n"
   ]
  },
  {
   "cell_type": "code",
   "execution_count": 3,
   "metadata": {},
   "outputs": [
    {
     "name": "stdout",
     "output_type": "stream",
     "text": [
      "This is a old sentance\n",
      "This is a new sentance\n"
     ]
    }
   ],
   "source": [
    "# 2.7\n",
    "sen = input('Enter a sentance: ')\n",
    "rep = input('What word do you want to change?: ')\n",
    "chan_ge = input('Enter new word: ')\n",
    "new_sen = sen.replace(rep, chan_ge)\n",
    "print(sen)\n",
    "print(new_sen)"
   ]
  },
  {
   "cell_type": "code",
   "execution_count": 2,
   "metadata": {},
   "outputs": [
    {
     "name": "stdout",
     "output_type": "stream",
     "text": [
      "Commit\n",
      "first_character = C, last_character = t\n"
     ]
    }
   ],
   "source": [
    "# 2.8\n",
    "in_st = input()\n",
    "print(in_st)\n",
    "print(f'first_character = {in_st[0]}, last_character = {in_st[-1]}')"
   ]
  },
  {
   "cell_type": "code",
   "execution_count": 4,
   "metadata": {},
   "outputs": [
    {
     "name": "stdout",
     "output_type": "stream",
     "text": [
      "reversed_version_of ZIUQ is QUIZ\n"
     ]
    }
   ],
   "source": [
    "# 2.9\n",
    "in_st = input()\n",
    "print(f'reversed_version_of {in_st} is {in_st[::-1]}')\n"
   ]
  },
  {
   "cell_type": "code",
   "execution_count": 6,
   "metadata": {},
   "outputs": [
    {
     "name": "stdout",
     "output_type": "stream",
     "text": [
      "The numbers of words in sentance \"This sentance contains five words\": 5\n"
     ]
    }
   ],
   "source": [
    "# 2.10\n",
    "sentance = input()\n",
    "\n",
    "list_of_word = sentance.split()\n",
    "print(f'The numbers of words in sentance \"{sentance}\": {len(list_of_word)}')"
   ]
  },
  {
   "cell_type": "code",
   "execution_count": null,
   "metadata": {},
   "outputs": [
    {
     "name": "stdout",
     "output_type": "stream",
     "text": [
      "digit exists in \"Navoi was born in 1441\"\n"
     ]
    }
   ],
   "source": [
    "# 2.11\n",
    "str = input()\n",
    "flag = 0\n",
    "\n",
    "for el in str:\n",
    "    if el.isdigit():\n",
    "        print(f'digit exists in \"{str}\"')\n",
    "        flag = 1\n",
    "        break\n",
    "    \n",
    "if not flag:\n",
    "    print(f'any digit does not exist in \"{str}\"')"
   ]
  },
  {
   "cell_type": "code",
   "execution_count": 29,
   "metadata": {},
   "outputs": [
    {
     "name": "stdout",
     "output_type": "stream",
     "text": [
      "firs-second-three-end\n"
     ]
    }
   ],
   "source": [
    "# 2.12\n",
    "lst_wr = input().split(', ')\n",
    "string = '-'.join(lst_wr)\n",
    "\n",
    "print(string)"
   ]
  },
  {
   "cell_type": "code",
   "execution_count": 34,
   "metadata": {},
   "outputs": [
    {
     "name": "stdout",
     "output_type": "stream",
     "text": [
      "1 2 3 45 6 xbyuw cwna\n",
      "123456xbyuwcwna\n"
     ]
    }
   ],
   "source": [
    "# 2.13\n",
    "str = input()\n",
    "print(str)\n",
    "str_without_spaces = str.replace(' ', '')\n",
    "print(str_without_spaces)"
   ]
  },
  {
   "cell_type": "code",
   "execution_count": 35,
   "metadata": {},
   "outputs": [
    {
     "name": "stdout",
     "output_type": "stream",
     "text": [
      "text and text are equal!\n"
     ]
    }
   ],
   "source": [
    "# 2.14\n",
    "fr = input()\n",
    "sc = input()\n",
    "if fr == sc:\n",
    "    print(f\"{fr} and {sc} are equal!\")\n",
    "else:\n",
    "    print(f\"{fr} and {sc} are not equal!\")"
   ]
  },
  {
   "cell_type": "code",
   "execution_count": 38,
   "metadata": {},
   "outputs": [
    {
     "name": "stdout",
     "output_type": "stream",
     "text": [
      "the world health organization\n",
      "TWHO\n"
     ]
    }
   ],
   "source": [
    "# 2.15\n",
    "sentance = input()\n",
    "acronym = ''\n",
    "for i in range(len(sentance)):\n",
    "    if i == 0:\n",
    "        acronym += sentance[0]\n",
    "    else:\n",
    "        if sentance[i] == ' ':\n",
    "            acronym += sentance[i + 1]\n",
    "print(sentance)\n",
    "print(acronym.upper())"
   ]
  },
  {
   "cell_type": "markdown",
   "metadata": {},
   "source": [
    "3 Boolean Data Type Questions:\n",
    "\n",
    "3.1 Write a program that accepts a username and password and checks if both are not empty.\n",
    "\n",
    "3.2 Create a program that checks if two numbers are equal and outputs a message if they are.\n",
    "\n",
    "3.3 Write a program that checks if a number is positive and even.\n",
    "\n",
    "3.4 Write a program that takes three numbers and checks if all of them are different.\n",
    "\n",
    "3.5 Create a program that accepts two strings and checks if they have the same length.\n",
    "\n",
    "3.6 Create a program that accepts a number and checks if it’s divisible by both 3 and 5.\n",
    "\n",
    "3.7 Write a program that checks if the sum of two numbers is greater than 50.8. Create a program that checks if a given number is between 10 and 20 (inclusive)"
   ]
  },
  {
   "cell_type": "code",
   "execution_count": 15,
   "metadata": {},
   "outputs": [
    {
     "name": "stdout",
     "output_type": "stream",
     "text": [
      "\n",
      "1xdw1451cd$\n",
      "At least one of them is not empty\n"
     ]
    }
   ],
   "source": [
    "# 3.1\n",
    "username = input('Enter username: ')\n",
    "print(username)\n",
    "password = input('Enter password: ')\n",
    "print(password)\n",
    "if not username and not password:\n",
    "    print('Both are empty!')\n",
    "else:\n",
    "    print('At least one of them is not empty')"
   ]
  },
  {
   "cell_type": "code",
   "execution_count": 18,
   "metadata": {},
   "outputs": [
    {
     "name": "stdout",
     "output_type": "stream",
     "text": [
      "4186.48 = 4186.48\n",
      "They are equal\n"
     ]
    }
   ],
   "source": [
    "# 3.2\n",
    "num1 = float(input())\n",
    "num2 = float(input())\n",
    "if num1 == num2:\n",
    "    print(f'{num1} = {num2}')\n",
    "    print('They are equal')\n",
    "else:\n",
    "    pass"
   ]
  },
  {
   "cell_type": "code",
   "execution_count": 19,
   "metadata": {},
   "outputs": [
    {
     "name": "stdout",
     "output_type": "stream",
     "text": [
      "67946 is positive and even\n"
     ]
    }
   ],
   "source": [
    "# 3.3\n",
    "a = int(input())\n",
    "if a % 2 == 0 and a > 0:\n",
    "    print(f'{a} is positive and even')\n",
    "else:\n",
    "    pass"
   ]
  },
  {
   "cell_type": "code",
   "execution_count": 20,
   "metadata": {},
   "outputs": [
    {
     "name": "stdout",
     "output_type": "stream",
     "text": [
      "196.626 58.0 -0.15\n",
      "they are diferent\n"
     ]
    }
   ],
   "source": [
    "# 3.4\n",
    "a = float(input())\n",
    "b = float(input())\n",
    "c = float(input())\n",
    "if not a == b == c:\n",
    "    print(a, b, c)\n",
    "    print('they are diferent')\n",
    "else:\n",
    "    pass"
   ]
  },
  {
   "cell_type": "code",
   "execution_count": 23,
   "metadata": {},
   "outputs": [
    {
     "name": "stdout",
     "output_type": "stream",
     "text": [
      "\"done\" and \"none\" have same length!\n"
     ]
    }
   ],
   "source": [
    "# 3.5\n",
    "str_1 = input()\n",
    "str_2 = input()\n",
    "if len(str_1) == len(str_2):\n",
    "    print(f'\"{str_1}\" and \"{str_2}\" have same length!')\n",
    "else:\n",
    "    print(f'\"{str_1}\" and \"{str_2}\" have different length!')\n"
   ]
  },
  {
   "cell_type": "code",
   "execution_count": 25,
   "metadata": {},
   "outputs": [
    {
     "name": "stdout",
     "output_type": "stream",
     "text": [
      "465851445 is divisible both 3 and 5\n"
     ]
    }
   ],
   "source": [
    "# 3.6\n",
    "a = int(input())\n",
    "if a % 3 == 0 and a % 5 ==0:\n",
    "    print(f'{a} is divisible both 3 and 5')\n",
    "else:\n",
    "    pass"
   ]
  },
  {
   "cell_type": "code",
   "execution_count": 27,
   "metadata": {},
   "outputs": [
    {
     "name": "stdout",
     "output_type": "stream",
     "text": [
      "65.8 + -10.5 > 50.8\n"
     ]
    }
   ],
   "source": [
    "# 3.7\n",
    "a = float(input())\n",
    "b = float(input())\n",
    "if a + b > 50.8:\n",
    "    print(f'{a} + {b} > 50.8')\n",
    "else:\n",
    "    pass\n",
    "if 10 <= a <= 20:\n",
    "    print(f'10 <= {a} <= 20')\n",
    "else:\n",
    "    pass\n",
    "if 10 <= b <= 20:\n",
    "    print(f'10 <= {b} <= 20')\n",
    "else:\n",
    "    pass"
   ]
  }
 ],
 "metadata": {
  "kernelspec": {
   "display_name": "Python 3",
   "language": "python",
   "name": "python3"
  },
  "language_info": {
   "codemirror_mode": {
    "name": "ipython",
    "version": 3
   },
   "file_extension": ".py",
   "mimetype": "text/x-python",
   "name": "python",
   "nbconvert_exporter": "python",
   "pygments_lexer": "ipython3",
   "version": "3.11.6"
  }
 },
 "nbformat": 4,
 "nbformat_minor": 2
}
