{
 "cells": [
  {
   "cell_type": "markdown",
   "metadata": {},
   "source": [
    "Task 1: Create a Library Management System with Custom Exceptions"
   ]
  },
  {
   "cell_type": "markdown",
   "metadata": {},
   "source": [
    "1. Create a Python program to manage a small library system."
   ]
  },
  {
   "cell_type": "code",
   "execution_count": 6,
   "metadata": {},
   "outputs": [
    {
     "name": "stdout",
     "output_type": "stream",
     "text": [
      "Books in the library:\n",
      "Title: Bolalik, avtor: Oybek\n",
      "Title: 1984, avtor: George Orwell\n",
      "Title: Shum Bola, avtor: Gafur Gulyamov\n",
      "\n",
      "Members in the library:\n",
      "Name: Anna\n",
      "Name: Nargiz\n"
     ]
    }
   ],
   "source": [
    "books = []\n",
    "members = []\n",
    "\n",
    "def book_adder(title, avtor):\n",
    "    books.append({\"title\": title, \"avtor\": avtor, \"is_borrowed\": False})\n",
    "\n",
    "\n",
    "def add_member(name):\n",
    "    members.append({\"Ism\": name, \"olingan_kitoblar\": []})\n",
    "\n",
    "book_adder(\"Bolalik\", \"Oybek\")\n",
    "book_adder(\"1984\", \"George Orwell\")\n",
    "book_adder(\"Shum Bola\", \"Gafur Gulyamov\")\n",
    "\n",
    "add_member(\"Anna\")\n",
    "add_member(\"Nargiz\")\n",
    "\n",
    "print(\"Books in the library:\")\n",
    "for book in books:\n",
    "    print(f\"Title: {book['title']}, avtor: {book['avtor']}\")\n",
    "\n",
    "print(\"\\nMembers in the library:\")\n",
    "for member in members:\n",
    "    print(f\"Name: {member['Ism']}\")\n",
    "\n"
   ]
  },
  {
   "cell_type": "markdown",
   "metadata": {},
   "source": [
    "2. Define custom exceptions for specific scenarios:\n",
    "    BookNotFoundException: Raised when trying to borrow a book that doesn’t exist in the library.\n",
    "    BookAlreadyBorrowedException: Raised when a book is already borrowed.\n",
    "    MemberLimitExceededException: Raised when a member tries to borrow more books than allowed."
   ]
  },
  {
   "cell_type": "code",
   "execution_count": 7,
   "metadata": {},
   "outputs": [],
   "source": [
    "\n",
    "class BookNotFoundException(Exception):\n",
    "    pass\n",
    "\n",
    "\n",
    "class BookAlreadyBorrowedException(Exception):\n",
    "    pass\n",
    "\n",
    "\n",
    "class MemberLimitExceededException(Exception):\n",
    "    pass\n"
   ]
  },
  {
   "cell_type": "markdown",
   "metadata": {},
   "source": [
    "3. Implement classes for:\n",
    "    Book: Attributes include title, author, and is_borrowed.\n",
    "    Member: Attributes include name, borrowed_books (limit to 3 books per member).\n",
    "    Library: Manages books and members, including borrowing and returning books."
   ]
  },
  {
   "cell_type": "code",
   "execution_count": 15,
   "metadata": {},
   "outputs": [],
   "source": [
    "class Book:\n",
    "    def __init__(self, title, avtor):\n",
    "        self.title = title\n",
    "        self.avtor = avtor\n",
    "        self.is_borrowed = False\n",
    "\n",
    "class Member:\n",
    "    def __init__(self, ism):\n",
    "        self.ism = ism\n",
    "        self.olingan_kitoblar = []\n",
    "\n",
    "    def borrow_book(self, book):\n",
    "        if len(self.olingan_kitoblar) >= 3:\n",
    "            raise MemberLimitExceededException(f\"{self.ism} can't borrow more than 3 books.\")\n",
    "        self.olingan_kitoblar.append(book)\n",
    "\n",
    "    def return_book(self, book):\n",
    "        if book in self.olingan_kitoblar:\n",
    "            self.olingan_kitoblar.remove(book)\n",
    "        else:\n",
    "            print(f\"{self.ism} didn't borrow the book '{book.title}'.\")\n",
    "\n",
    "class Library:\n",
    "    def __init__(self):\n",
    "        self.books = []\n",
    "        self.members = []\n",
    "\n",
    "    def add_book(self, book):\n",
    "        self.books.append(book)\n",
    "\n",
    "    def add_member(self, member):\n",
    "        self.members.append(member)\n",
    "\n",
    "    def borrow_book(self, member, title):\n",
    "        book = None\n",
    "        for b in self.books:\n",
    "            if b.title == title:\n",
    "                book = b\n",
    "                break\n",
    "\n",
    "        if book is None:\n",
    "            raise BookNotFoundException(f\"The book '{title}' is not in the library.\")\n",
    "        \n",
    "        if book.is_borrowed:\n",
    "            raise BookAlreadyBorrowedException(f\"'{title}' is already borrowed.\")\n",
    "\n",
    "        book.is_borrowed = True\n",
    "        member.borrow_book(book)\n",
    "\n",
    "    def return_book(self, member, title):\n",
    "        book = None\n",
    "        for b in self.books:\n",
    "            if b.title == title:\n",
    "                book = b\n",
    "                break\n",
    "\n",
    "        if book is None:\n",
    "            print(f\"The book '{title}' is not available in the library.\")\n",
    "            return\n",
    "\n",
    "        if book not in member.olingan_kitoblar:\n",
    "            print(f\"{member.ism} did not borrow '{title}'.\")\n",
    "            return\n",
    "\n",
    "        book.is_borrowed = False\n",
    "        member.return_book(book)\n"
   ]
  },
  {
   "cell_type": "markdown",
   "metadata": {},
   "source": [
    "Test your program with the following scenarios:\n",
    "    Adding books and members.\n",
    "    Borrowing and returning books.\n",
    "    Handling exceptions when rules are violated."
   ]
  },
  {
   "cell_type": "code",
   "execution_count": 21,
   "metadata": {},
   "outputs": [
    {
     "name": "stdout",
     "output_type": "stream",
     "text": [
      "Anna can't borrow more than 3 books.\n",
      "'1984' is already borrowed.\n",
      "Anna did not borrow '1984'.\n"
     ]
    }
   ],
   "source": [
    "\n",
    "def test_library_system():\n",
    "    library = Library()\n",
    "\n",
    "    book1 = Book(\"Bolalik\", \"Oybek\")\n",
    "    book2 = Book(\"1984\", \"George Orwell\")\n",
    "    book3 = Book(\"Shum Bola\", \"Gafur Gulyamov\")\n",
    "    book4 = Book(\"Shaytanat\", \"Toxir Malik\")\n",
    "\n",
    "    library.add_book(book1)\n",
    "    library.add_book(book2)\n",
    "    library.add_book(book3)\n",
    "    library.add_book(book4)\n",
    "\n",
    "\n",
    "    anna = Member(\"Anna\")\n",
    "    nargiz = Member(\"Nargiz\")\n",
    "\n",
    "    library.add_member(anna)\n",
    "    library.add_member(nargiz)\n",
    "\n",
    "    try:\n",
    "        library.borrow_book(anna, \"1984\")\n",
    "        library.borrow_book(anna, \"Shaytanat\")\n",
    "        library.borrow_book(anna, \"Shum Bola\")\n",
    "        library.borrow_book(anna, \"Bolalik\")\n",
    "    except Exception as e:\n",
    "        print(e)\n",
    "\n",
    "    try:\n",
    "        library.borrow_book(nargiz, \"1984\") \n",
    "    except Exception as e:\n",
    "        print(e)\n",
    "\n",
    "    try:\n",
    "        library.return_book(anna, \"1984\") \n",
    "        library.return_book(anna, \"1984\") \n",
    "    except Exception as e:\n",
    "        print(e)\n",
    "\n",
    "    try:\n",
    "        library.borrow_book(nargiz, \"1984\")\n",
    "    except Exception as e:\n",
    "        print(e)\n",
    "\n",
    "test_library_system()\n"
   ]
  }
 ],
 "metadata": {
  "kernelspec": {
   "display_name": "Python 3",
   "language": "python",
   "name": "python3"
  },
  "language_info": {
   "codemirror_mode": {
    "name": "ipython",
    "version": 3
   },
   "file_extension": ".py",
   "mimetype": "text/x-python",
   "name": "python",
   "nbconvert_exporter": "python",
   "pygments_lexer": "ipython3",
   "version": "3.11.6"
  }
 },
 "nbformat": 4,
 "nbformat_minor": 2
}
