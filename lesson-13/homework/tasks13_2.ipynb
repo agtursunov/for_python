{
 "cells": [
  {
   "cell_type": "code",
   "execution_count": 9,
   "metadata": {},
   "outputs": [],
   "source": [
    "import sqlite3"
   ]
  },
  {
   "cell_type": "markdown",
   "metadata": {},
   "source": [
    "### Task 2\n",
    "\n",
    "1. **Database Creation**:\n",
    "   - Create a new SQLite database named `library.db`.\n",
    "   - Define a table called **Books** with the following schema:\n",
    "     - **Title**: TEXT\n",
    "     - **Author**: TEXT\n",
    "     - **Year_Published**: INTEGER\n",
    "     - **Genre**: TEXT\n",
    "\n",
    "2. **Insert Data**:\n",
    "   - Populate the **Books** table with the following entries:\n",
    "\n",
    "| Title                  | Author          | Year_Published | Genre      |\n",
    "|------------------------|-----------------|----------------|------------|\n",
    "| To Kill a Mockingbird  | Harper Lee      | 1960           | Fiction    |\n",
    "| 1984                   | George Orwell   | 1949           | Dystopian  |\n",
    "| The Great Gatsby       | F. Scott Fitzgerald | 1925        | Classic    |\n",
    "\n",
    "3. **Update Data**:\n",
    "   - Update the `Year_Published` of **1984** to **1950**.\n",
    "\n",
    "4. **Query Data**:\n",
    "   - Retrieve and display the **Title** and **Author** of all books where the `Genre` is **Dystopian**.\n",
    "\n",
    "5. **Delete Data**:\n",
    "   - Remove all books published before the year 1950 from the table.\n",
    "\n",
    "6. **Bonus Task**:\n",
    "   - Add a new column called `Rating` to the **Books** table and update the data with the following values:\n",
    "\n",
    "| Title                  | Rating |\n",
    "|------------------------|--------|\n",
    "| To Kill a Mockingbird  | 4.8    |\n",
    "| 1984                   | 4.7    |\n",
    "| The Great Gatsby       | 4.5    |\n",
    "\n",
    "7. **Advanced Query**:\n",
    "   - Retrieve all books sorted by their `Year_Published` in ascending order.\n",
    "\n",
    "---"
   ]
  },
  {
   "cell_type": "code",
   "execution_count": 10,
   "metadata": {},
   "outputs": [],
   "source": [
    "def creat_library():\n",
    "    with sqlite3.connect('library.db') as second_base:\n",
    "        cursor = second_base.cursor()\n",
    "        query_for_creat = 'CREATE TABLE IF NOT EXISTS Books (Title text, Author text, Year_Published integer, Genre text)'\n",
    "        cursor.execute(query_for_creat)"
   ]
  },
  {
   "cell_type": "code",
   "execution_count": 11,
   "metadata": {},
   "outputs": [],
   "source": [
    "def insert_data():\n",
    "    with sqlite3.connect('library.db') as second_base:\n",
    "        cursor = second_base.cursor()\n",
    "        info = (\n",
    "            ('To Kill a Mockingbird', 'Harper Lee ', 1960, 'Fiction'),\n",
    "            ('1984',  'George Orwell', 1949, 'Dystopian'),\n",
    "            ('The Great Gatsby', 'F. Scott Fitzgerald', 1925, 'Classic')\n",
    "        )\n",
    "        query_to_add = 'INSERT INTO Books VALUES(?, ?, ?, ?)'\n",
    "\n",
    "        cursor.executemany(query_to_add, info)"
   ]
  },
  {
   "cell_type": "code",
   "execution_count": 12,
   "metadata": {},
   "outputs": [],
   "source": [
    "def update_year_published(title_select, new):\n",
    "    with sqlite3.connect('library.db') as first_base:\n",
    "        cursor = first_base.cursor()\n",
    "        new_date = new\n",
    "        selected_title = title_select\n",
    "        query_for_update = '''UPDATE Books\n",
    "                            SET Year_Published = ?\n",
    "                            WHERE Title = ?'''\n",
    "        cursor.execute(query_for_update, (new_date, selected_title))"
   ]
  },
  {
   "cell_type": "code",
   "execution_count": 13,
   "metadata": {},
   "outputs": [],
   "source": [
    "def display_data(key_genre):\n",
    "    with sqlite3.connect('library.db') as first_base:\n",
    "        cursor = first_base.cursor()\n",
    "        selection = 'SELECT Title, Author FROM Books WHERE Genre = ?'\n",
    "        key = (key_genre,)\n",
    "        to_display = cursor.execute(selection, key)\n",
    "        print(to_display.fetchall())"
   ]
  },
  {
   "cell_type": "code",
   "execution_count": 14,
   "metadata": {},
   "outputs": [],
   "source": [
    "def delate_info(key_date):\n",
    "    with sqlite3.connect('library.db') as first_base:\n",
    "        cursor = first_base.cursor()\n",
    "        delate_info = 'DELETE FROM Books WHERE Year_Published < ?'\n",
    "        key = (key_date,)\n",
    "        cursor.execute(delate_info, key)"
   ]
  },
  {
   "cell_type": "code",
   "execution_count": 15,
   "metadata": {},
   "outputs": [],
   "source": [
    "def main():\n",
    "    \n",
    "    creat_library()\n",
    "    insert_data()\n",
    "    update_year_published('1984', '1950')\n",
    "    display_data('Dystopian')\n",
    "    delate_info(1950)"
   ]
  },
  {
   "cell_type": "code",
   "execution_count": 16,
   "metadata": {},
   "outputs": [
    {
     "name": "stdout",
     "output_type": "stream",
     "text": [
      "[('1984', 'George Orwell')]\n"
     ]
    }
   ],
   "source": [
    "if __name__ == '__main__':\n",
    "    main()"
   ]
  }
 ],
 "metadata": {
  "kernelspec": {
   "display_name": "Python 3",
   "language": "python",
   "name": "python3"
  },
  "language_info": {
   "codemirror_mode": {
    "name": "ipython",
    "version": 3
   },
   "file_extension": ".py",
   "mimetype": "text/x-python",
   "name": "python",
   "nbconvert_exporter": "python",
   "pygments_lexer": "ipython3",
   "version": "3.11.6"
  }
 },
 "nbformat": 4,
 "nbformat_minor": 2
}
