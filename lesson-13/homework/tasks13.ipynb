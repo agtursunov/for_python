{
 "cells": [
  {
   "cell_type": "code",
   "execution_count": 1,
   "metadata": {},
   "outputs": [],
   "source": [
    "import sqlite3"
   ]
  },
  {
   "cell_type": "markdown",
   "metadata": {},
   "source": [
    "### Task 1\n",
    "\n",
    "1. **Database Creation**:\n",
    "   - Create a new SQLite database named `roster.db`.\n",
    "   - Define a table called **Roster** with the following schema:\n",
    "     - **Name**: TEXT\n",
    "     - **Species**: TEXT\n",
    "     - **Age**: INTEGER\n",
    "\n",
    "2. **Insert Data**:\n",
    "   - Populate the **Roster** table with the following entries:\n",
    "\n",
    "| Name           | Species  | Age |\n",
    "|----------------|----------|-----|\n",
    "| Benjamin Sisko | Human    | 40  |\n",
    "| Jadzia Dax     | Trill    | 300 |\n",
    "| Kira Nerys     | Bajoran  | 29  |\n",
    "\n",
    "3. **Update Data**:\n",
    "   - Update the `Name` of **Jadzia Dax** to **Ezri Dax**.\n",
    "\n",
    "4. **Query Data**:\n",
    "   - Retrieve and display the **Name** and **Age** of all characters where the `Species` is **Bajoran**.\n",
    "\n",
    "5. **Delete Data**:\n",
    "   - Remove all characters aged over 100 years from the table.\n",
    "\n",
    "6. **Bonus Task**:\n",
    "   - Add a new column called `Rank` to the **Roster** table and update the data with the following values:\n",
    "   \n",
    "| Name           | Rank       |\n",
    "|----------------|------------|\n",
    "| Benjamin Sisko | Captain    |\n",
    "| Ezri Dax       | Lieutenant |\n",
    "| Kira Nerys     | Major      |\n",
    "\n",
    "7. **Advanced Query**:\n",
    "   - Retrieve all characters sorted by their `Age` in descending order.\n"
   ]
  },
  {
   "cell_type": "code",
   "execution_count": 2,
   "metadata": {},
   "outputs": [],
   "source": [
    "def creat_roster():\n",
    "    with sqlite3.connect('roster.db') as first_base:\n",
    "        cursor = first_base.cursor()\n",
    "        query1 = 'CREATE TABLE IF NOT EXISTS Roster (Name text, Species text, Age integer)'\n",
    "        cursor.execute(query1)\n"
   ]
  },
  {
   "cell_type": "code",
   "execution_count": 3,
   "metadata": {},
   "outputs": [],
   "source": [
    "def add_data():\n",
    "    with sqlite3.connect('roster.db') as first_base:\n",
    "        cursor = first_base.cursor()\n",
    "        info = (\n",
    "            ('Benjamin Sisko', 'Human', 40),\n",
    "            ('Jadzia Dax', 'Trill', 300),\n",
    "            ('Kira Nerys', 'Bajoran', 29)\n",
    "        )\n",
    "        query_to_add = 'INSERT INTO Roster VALUES(?, ?, ?)'\n",
    "\n",
    "        cursor.executemany(query_to_add, info)"
   ]
  },
  {
   "cell_type": "code",
   "execution_count": 4,
   "metadata": {},
   "outputs": [],
   "source": [
    "def update_name_info(new, old):\n",
    "    with sqlite3.connect('roster.db') as first_base:\n",
    "        cursor = first_base.cursor()\n",
    "        new_name = new\n",
    "        old_name = old\n",
    "        query_for_update = '''UPDATE Roster\n",
    "                            SET Name = ?\n",
    "                            WHERE Name = ?'''\n",
    "        cursor.execute(query_for_update, (new_name, old_name))"
   ]
  },
  {
   "cell_type": "code",
   "execution_count": 5,
   "metadata": {},
   "outputs": [],
   "source": [
    "def display_name_age(key_species):\n",
    "    with sqlite3.connect('roster.db') as first_base:\n",
    "        cursor = first_base.cursor()\n",
    "        selection = 'SELECT Name, Age FROM Roster WHERE Species = ?'\n",
    "        key = (key_species,)\n",
    "        to_display = cursor.execute(selection, key)\n",
    "        print(to_display.fetchall())\n"
   ]
  },
  {
   "cell_type": "code",
   "execution_count": 6,
   "metadata": {},
   "outputs": [],
   "source": [
    "def delate_info(key_age):\n",
    "    with sqlite3.connect('roster.db') as first_base:\n",
    "        cursor = first_base.cursor()\n",
    "        delate_info = 'DELETE FROM Roster WHERE Age = ?'\n",
    "        key = (key_age,)\n",
    "        cursor.execute(delate_info, key)"
   ]
  },
  {
   "cell_type": "code",
   "execution_count": 7,
   "metadata": {},
   "outputs": [],
   "source": [
    "def new_column():\n",
    "    with sqlite3.connect('roster.db') as first_base:\n",
    "        cursor = first_base.cursor()\n",
    "        add_rank_update= '''\n",
    "        ALTER TABLE Roster ADD column Rank text;\n",
    "        UPDATE Roster SET Rank='Captain' WHERE name = 'Benjamin Sisko';\n",
    "        UPDATE Roster SET Rank='Lieutenant' WHERE name = 'Ezri Dax';\n",
    "        UPDATE Roster SET Rank='Major' WHERE name = 'Kira Nerys';\n",
    "        '''\n",
    "        cursor.executescript(add_rank_update)    "
   ]
  },
  {
   "cell_type": "code",
   "execution_count": 8,
   "metadata": {},
   "outputs": [],
   "source": [
    "def sorted_by_age():\n",
    "    with sqlite3.connect('roster.db') as first_base:\n",
    "        cursor = first_base.cursor()\n",
    "        sorted_table = cursor.execute('SELECT * FROM Roster ORDER BY Age DESC')\n",
    "        print(sorted_table.fetchall())   "
   ]
  },
  {
   "cell_type": "code",
   "execution_count": 9,
   "metadata": {},
   "outputs": [],
   "source": [
    "def main():\n",
    "    \n",
    "    creat_roster()\n",
    "    add_data()\n",
    "    update_name_info('Ezri Dax', 'Jadzia Dax')\n",
    "    new_column()\n",
    "    sorted_by_age()\n",
    "    display_name_age('Bajoran')\n",
    "    delate_info(300)"
   ]
  },
  {
   "cell_type": "code",
   "execution_count": 10,
   "metadata": {},
   "outputs": [
    {
     "name": "stdout",
     "output_type": "stream",
     "text": [
      "[('Ezri Dax', 'Trill', 300, 'Lieutenant'), ('Benjamin Sisko', 'Human', 40, 'Captain'), ('Kira Nerys', 'Bajoran', 29, 'Major')]\n",
      "[('Kira Nerys', 29)]\n"
     ]
    }
   ],
   "source": [
    "if __name__ == '__main__':\n",
    "    main()"
   ]
  }
 ],
 "metadata": {
  "kernelspec": {
   "display_name": "Python 3",
   "language": "python",
   "name": "python3"
  },
  "language_info": {
   "codemirror_mode": {
    "name": "ipython",
    "version": 3
   },
   "file_extension": ".py",
   "mimetype": "text/x-python",
   "name": "python",
   "nbconvert_exporter": "python",
   "pygments_lexer": "ipython3",
   "version": "3.11.6"
  }
 },
 "nbformat": 4,
 "nbformat_minor": 2
}
