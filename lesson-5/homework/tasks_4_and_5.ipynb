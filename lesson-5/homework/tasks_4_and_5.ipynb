{
 "cells": [
  {
   "cell_type": "markdown",
   "metadata": {},
   "source": [
    "Task 4"
   ]
  },
  {
   "cell_type": "markdown",
   "metadata": {},
   "source": [
    "Define a function, enrollment_stats(), that akes, as an input, a list of lists where each individual list contains three elements: (a) the name of a university, (b) the total number of enrolled students, and (c) the annual tuition fees.\n",
    "\n",
    "enrollment_stats() should return two lists: the first containing all of the student enrollment values and the second containing all of the tuition fees.\n",
    "\n",
    "Next, define a mean() and a median() function. Both functions should take a single list as an argument and return the mean and median of the values in each list.\n",
    "\n",
    "Using universities, enrollment_stats(), mean(), and median(), calculate the total number of students, the total tuition, the mean and median of the number of students, and the mean and median tuition values."
   ]
  },
  {
   "cell_type": "code",
   "execution_count": 5,
   "metadata": {},
   "outputs": [],
   "source": [
    "universities = [\n",
    "    ['California Institute of Technology', 2175, 37704],\n",
    "    ['Harvard', 19627, 39849],\n",
    "    ['Massachusetts Institute of Technology', 10566, 40732],\n",
    "    ['Princeton', 7802, 37000],\n",
    "    ['Rice', 5879, 35551],\n",
    "    ['Stanford', 19535, 40569],\n",
    "    ['Yale', 11701, 40500]\n",
    "]"
   ]
  },
  {
   "cell_type": "code",
   "execution_count": 6,
   "metadata": {},
   "outputs": [],
   "source": [
    "def enrollment_stats(main_list):\n",
    "    total_student = []\n",
    "    total_fees = []\n",
    "    for i in main_list:\n",
    "        total_student.append(i[1])\n",
    "        total_fees.append(i[2])\n",
    "    return total_student, total_fees\n",
    "def mean(list):\n",
    "    sum = 0\n",
    "    for i in list:\n",
    "        sum += i\n",
    "    return sum / len(list)\n",
    "def median(list):\n",
    "    if len(list) % 2 == 0:\n",
    "        middle_list = len(list) / 2\n",
    "        return (list[middle_list] + list[middle_list + 1]) / 2\n",
    "    else:\n",
    "        return list[len(list) // 2 + 1]"
   ]
  },
  {
   "cell_type": "code",
   "execution_count": 12,
   "metadata": {},
   "outputs": [
    {
     "name": "stdout",
     "output_type": "stream",
     "text": [
      "******************************\n",
      "Total students: 77285\n",
      "Total tuition:: $ 271905\n",
      "\n",
      "Student mean: 11040.71\n",
      "Student median: 5879\n",
      "\n",
      "Tuition mean: $ 38843.57\n",
      "Tuition median: $ 35551\n",
      "******************************\n"
     ]
    }
   ],
   "source": [
    "total_student, total_fees = enrollment_stats(universities)\n",
    "print(30*'*')\n",
    "print(f'Total students: {sum(total_student)}')\n",
    "print(f'Total tuition:: $ {sum(total_fees)}\\n')\n",
    "print(f'Student mean: {round(mean(total_student), 2)}')\n",
    "print(f'Student median: {median(total_student)}\\n')\n",
    "print(f'Tuition mean: $ {round(mean(total_fees), 2)}')\n",
    "print(f'Tuition median: $ {median(total_fees)}')\n",
    "print(30*'*')\n",
    "\n",
    "\n"
   ]
  }
 ],
 "metadata": {
  "kernelspec": {
   "display_name": "Python 3",
   "language": "python",
   "name": "python3"
  },
  "language_info": {
   "codemirror_mode": {
    "name": "ipython",
    "version": 3
   },
   "file_extension": ".py",
   "mimetype": "text/x-python",
   "name": "python",
   "nbconvert_exporter": "python",
   "pygments_lexer": "ipython3",
   "version": "3.11.6"
  }
 },
 "nbformat": 4,
 "nbformat_minor": 2
}
