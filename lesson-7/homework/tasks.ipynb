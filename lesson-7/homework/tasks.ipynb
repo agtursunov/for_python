{
 "cells": [
  {
   "cell_type": "markdown",
   "metadata": {},
   "source": [
    "Generalized Vector Class\n",
    "\n",
    "Objective: Create a Python class Vector that represents a mathematical vector in an n-dimensional space, capable of handling any number of dimensions.\n",
    "\n",
    "Task Description"
   ]
  },
  {
   "cell_type": "markdown",
   "metadata": {},
   "source": [
    "1. Create a Vector class that represents a vector in an n-dimensional space.\n",
    "\n",
    "    The class should support vectors of any number of dimensions, defined by an arbitrary number of components provided during initialization.\n",
    "\n",
    "2. The class should provide functionality to:\n",
    "\n",
    "    Perform vector operations such as addition, subtraction, and dot product.\n",
    "\n",
    "    Handle scalar multiplication.\n",
    "    \n",
    "    Compute the magnitude (length) of the vector.\n",
    "    \n",
    "    Normalize the vector (return the unit vector).\n",
    "    \n",
    "    The class should have methods for:\n",
    "\n",
    "3. Representing the vector as a string for easy display.\n",
    "    \n",
    "    Handling operations between vectors of the same dimension and raising appropriate errors when vectors of different dimensions are involved."
   ]
  },
  {
   "cell_type": "code",
   "execution_count": 9,
   "metadata": {},
   "outputs": [],
   "source": [
    "import math\n",
    "\n",
    "class Vector:\n",
    "    def __init__(self, *components):\n",
    "        self.components = components\n",
    "        self.dimension = len(components)\n",
    "\n",
    "    def __str__(self):\n",
    "        result = \"(\"\n",
    "        for i, component in enumerate(self.components):\n",
    "            if i > 0:\n",
    "                result += \", \"\n",
    "            result += str(component)\n",
    "        result += \")\"\n",
    "        return result\n",
    "\n",
    "    def __add__(self, other):\n",
    "\n",
    "        result = []\n",
    "        for i in range(len(self.components)):\n",
    "            result.append(self.components[i] + other.components[i])\n",
    "        \n",
    "        return Vector(*result)\n",
    "\n",
    "    def __sub__(self, other):\n",
    "\n",
    "        result = []\n",
    "        for i in range(len(self.components)):\n",
    "            result.append(self.components[i] - other.components[i])\n",
    "        \n",
    "        return Vector(*result)\n",
    "\n",
    "    def __mul__(self, scalar):\n",
    "\n",
    "        result = []\n",
    "        for a in self.components:\n",
    "            result.append(a * scalar)\n",
    "        return Vector(*result)\n",
    "\n",
    "    def magnitude(self):\n",
    "\n",
    "        return math.sqrt(sum(a ** 2 for a in self.components))\n",
    "\n",
    "    def normalize(self):\n",
    "        mag = self.magnitude()\n",
    "\n",
    "        return self * (1 / mag)\n",
    "\n",
    "    def __eq__(self, other):\n",
    "\n",
    "        return self.components == other.components\n",
    "\n",
    "    def __ne__(self, other):\n",
    "\n",
    "        return self.components != other.components\n",
    "\n"
   ]
  },
  {
   "cell_type": "code",
   "execution_count": 12,
   "metadata": {},
   "outputs": [
    {
     "name": "stdout",
     "output_type": "stream",
     "text": [
      "v1 + v2: (4, 6)\n",
      "v1 - v2: (2, 2)\n",
      "v1 * 3: (9, 12)\n",
      "Magnitude of v1: 5.0\n",
      "Normalized v1: (0.6000000000000001, 0.8)\n",
      "Are v1 and v2 equal? False\n"
     ]
    }
   ],
   "source": [
    "v1 = Vector(3, 4)\n",
    "v2 = Vector(1, 2)\n",
    "v3 = v1 + v2\n",
    "print(\"v1 + v2:\", v3)\n",
    "v4 = v1 - v2\n",
    "print(\"v1 - v2:\", v4)\n",
    "v5 = v1 * 3\n",
    "print(\"v1 * 3:\", v5)\n",
    "magnitude_v1 = v1.magnitude()\n",
    "print(\"Magnitude of v1:\", magnitude_v1)\n",
    "v6 = v1.normalize()\n",
    "print(\"Normalized v1:\", v6)\n",
    "print(\"Are v1 and v2 equal?\", v1 == v2)\n"
   ]
  }
 ],
 "metadata": {
  "kernelspec": {
   "display_name": "Python 3",
   "language": "python",
   "name": "python3"
  },
  "language_info": {
   "codemirror_mode": {
    "name": "ipython",
    "version": 3
   },
   "file_extension": ".py",
   "mimetype": "text/x-python",
   "name": "python",
   "nbconvert_exporter": "python",
   "pygments_lexer": "ipython3",
   "version": "3.11.6"
  }
 },
 "nbformat": 4,
 "nbformat_minor": 2
}
