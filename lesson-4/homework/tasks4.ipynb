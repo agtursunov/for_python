{
 "cells": [
  {
   "cell_type": "markdown",
   "metadata": {},
   "source": [
    "1. Return uncommon elements of lists. Order of elements does not matter."
   ]
  },
  {
   "cell_type": "code",
   "execution_count": null,
   "metadata": {},
   "outputs": [
    {
     "name": "stdout",
     "output_type": "stream",
     "text": [
      "[2, 5, 2]\n"
     ]
    }
   ],
   "source": [
    "list_1 = eval(input())\n",
    "list_2 = eval(input())\n",
    "extension = []\n",
    "\n",
    "result = list(set(list_1) ^ set(list_2))\n",
    "intersection = list(set(list_1) & set(list_2))\n",
    "\n",
    "for i in result:\n",
    "    if list_1.count(i) >= 2:\n",
    "        for j in range(list_1.count(i) - 1):\n",
    "            extension.append(i)\n",
    "    if list_2.count(i) >= 2:\n",
    "        for j in range(list_2.count(i) - 1):\n",
    "            extension.append(i)\n",
    "\n",
    "print(result + extension)  "
   ]
  },
  {
   "cell_type": "markdown",
   "metadata": {},
   "source": [
    "2. Print the square of each number which is less than n on a separate line."
   ]
  },
  {
   "cell_type": "code",
   "execution_count": 3,
   "metadata": {},
   "outputs": [
    {
     "name": "stdout",
     "output_type": "stream",
     "text": [
      "1\n",
      "4\n",
      "9\n",
      "16\n"
     ]
    }
   ],
   "source": [
    "n = int(input())\n",
    "\n",
    "for i in range(1, n):\n",
    "    print(i**2)"
   ]
  }
 ],
 "metadata": {
  "kernelspec": {
   "display_name": "Python 3",
   "language": "python",
   "name": "python3"
  },
  "language_info": {
   "codemirror_mode": {
    "name": "ipython",
    "version": 3
   },
   "file_extension": ".py",
   "mimetype": "text/x-python",
   "name": "python",
   "nbconvert_exporter": "python",
   "pygments_lexer": "ipython3",
   "version": "3.11.6"
  }
 },
 "nbformat": 4,
 "nbformat_minor": 2
}
