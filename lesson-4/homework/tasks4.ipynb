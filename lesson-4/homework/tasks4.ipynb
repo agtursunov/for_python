{
 "cells": [
  {
   "cell_type": "markdown",
   "metadata": {},
   "source": [
    "1. Return uncommon elements of lists. Order of elements does not matter."
   ]
  },
  {
   "cell_type": "code",
   "execution_count": null,
   "metadata": {},
   "outputs": [
    {
     "name": "stdout",
     "output_type": "stream",
     "text": [
      "[2, 5, 2]\n"
     ]
    }
   ],
   "source": [
    "list_1 = eval(input())\n",
    "list_2 = eval(input())\n",
    "extension = []\n",
    "\n",
    "result = list(set(list_1) ^ set(list_2))\n",
    "intersection = list(set(list_1) & set(list_2))\n",
    "\n",
    "for i in result:\n",
    "    if list_1.count(i) >= 2:\n",
    "        for j in range(list_1.count(i) - 1):\n",
    "            extension.append(i)\n",
    "    if list_2.count(i) >= 2:\n",
    "        for j in range(list_2.count(i) - 1):\n",
    "            extension.append(i)\n",
    "\n",
    "print(result + extension)  "
   ]
  },
  {
   "cell_type": "markdown",
   "metadata": {},
   "source": [
    "2. Print the square of each number which is less than n on a separate line."
   ]
  },
  {
   "cell_type": "code",
   "execution_count": 4,
   "metadata": {},
   "outputs": [
    {
     "name": "stdout",
     "output_type": "stream",
     "text": [
      "1\n",
      "4\n",
      "9\n",
      "16\n"
     ]
    }
   ],
   "source": [
    "n = int(input())\n",
    "\n",
    "for i in range(1, n):\n",
    "    print(i**2)"
   ]
  },
  {
   "cell_type": "markdown",
   "metadata": {},
   "source": [
    "3. txt nomli string saqlovchi o'zgaruvchi berilgan. txtdagi har uchinchi belgidan keyin pastgi chiziqcha (underscore) qo'yilsin. Agar belgi unli harf yoki orqasidan ostki chiziqcha qo'yilgan harf bo'lsa, ostki chiziqcha keyingi harfdan keyin qo'yilsin. Agar belgi satrdagi oxirgi belgi bo'lsa chiziqcha qo'yilmasin."
   ]
  },
  {
   "cell_type": "code",
   "execution_count": 50,
   "metadata": {},
   "outputs": [
    {
     "name": "stdout",
     "output_type": "stream",
     "text": [
      "tes_tin_g_st_ring_abc_abcd_abcdeab_cdef_abcdefgq_whuer_ihv_btrh_blij_sdk_ncgtbvw_clujandsjx_sgetfubecrhkbaieutp\n"
     ]
    }
   ],
   "source": [
    "txt = input()\n",
    "len_txt = len(txt)\n",
    "\n",
    "result = ''\n",
    "prohibited_char = ['a', 'u', 'o', 'i', 'e']\n",
    "i, n = 0, 0\n",
    "\n",
    "while i != len_txt:\n",
    "    \n",
    "    if n != 0 and n % 3 == 0:\n",
    "        flag = True\n",
    "    elif n % 3 != 0 and n != 0:\n",
    "        flag = False\n",
    "        n += 1\n",
    "    elif n == 0:\n",
    "        flag = False\n",
    "        n += 1\n",
    "\n",
    "    if flag and txt[i - 1] not in prohibited_char:\n",
    "        result += '_'\n",
    "        prohibited_char.append(txt[i - 1])\n",
    "        n += 1\n",
    "    \n",
    "    else:\n",
    "        pass\n",
    "    \n",
    "    result += txt[i]\n",
    "    i += 1\n",
    "\n",
    "print(result)"
   ]
  }
 ],
 "metadata": {
  "kernelspec": {
   "display_name": "Python 3",
   "language": "python",
   "name": "python3"
  },
  "language_info": {
   "codemirror_mode": {
    "name": "ipython",
    "version": 3
   },
   "file_extension": ".py",
   "mimetype": "text/x-python",
   "name": "python",
   "nbconvert_exporter": "python",
   "pygments_lexer": "ipython3",
   "version": "3.11.6"
  }
 },
 "nbformat": 4,
 "nbformat_minor": 2
}
