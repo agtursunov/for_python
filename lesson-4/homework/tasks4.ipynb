{
 "cells": [
  {
   "cell_type": "markdown",
   "metadata": {},
   "source": [
    "1. Return uncommon elements of lists. Order of elements does not matter."
   ]
  },
  {
   "cell_type": "code",
   "execution_count": null,
   "metadata": {},
   "outputs": [
    {
     "name": "stdout",
     "output_type": "stream",
     "text": [
      "[2, 5, 2]\n"
     ]
    }
   ],
   "source": [
    "list_1 = eval(input())\n",
    "list_2 = eval(input())\n",
    "extension = []\n",
    "\n",
    "result = list(set(list_1) ^ set(list_2))\n",
    "intersection = list(set(list_1) & set(list_2))\n",
    "\n",
    "for i in result:\n",
    "    if list_1.count(i) >= 2:\n",
    "        for j in range(list_1.count(i) - 1):\n",
    "            extension.append(i)\n",
    "    if list_2.count(i) >= 2:\n",
    "        for j in range(list_2.count(i) - 1):\n",
    "            extension.append(i)\n",
    "\n",
    "print(result + extension) "
   ]
  },
  {
   "cell_type": "markdown",
   "metadata": {},
   "source": [
    "2. Print the square of each number which is less than n on a separate line."
   ]
  },
  {
   "cell_type": "code",
   "execution_count": 4,
   "metadata": {},
   "outputs": [
    {
     "name": "stdout",
     "output_type": "stream",
     "text": [
      "1\n",
      "4\n",
      "9\n",
      "16\n"
     ]
    }
   ],
   "source": [
    "n = int(input())\n",
    "\n",
    "for i in range(1, n):\n",
    "    print(i**2)"
   ]
  },
  {
   "cell_type": "markdown",
   "metadata": {},
   "source": [
    "3. txt nomli string saqlovchi o'zgaruvchi berilgan. txtdagi har uchinchi belgidan keyin pastgi chiziqcha (underscore) qo'yilsin. Agar belgi unli harf yoki orqasidan ostki chiziqcha qo'yilgan harf bo'lsa, ostki chiziqcha keyingi harfdan keyin qo'yilsin. Agar belgi satrdagi oxirgi belgi bo'lsa chiziqcha qo'yilmasin."
   ]
  },
  {
   "cell_type": "code",
   "execution_count": 50,
   "metadata": {},
   "outputs": [
    {
     "name": "stdout",
     "output_type": "stream",
     "text": [
      "tes_tin_g_st_ring_abc_abcd_abcdeab_cdef_abcdefgq_whuer_ihv_btrh_blij_sdk_ncgtbvw_clujandsjx_sgetfubecrhkbaieutp\n"
     ]
    }
   ],
   "source": [
    "txt = input()\n",
    "len_txt = len(txt)\n",
    "\n",
    "result = ''\n",
    "prohibited_char = ['a', 'u', 'o', 'i', 'e']\n",
    "i, n = 0, 0\n",
    "\n",
    "while i != len_txt:\n",
    "    \n",
    "    if n != 0 and n % 3 == 0:\n",
    "        flag = True\n",
    "    elif n % 3 != 0 and n != 0:\n",
    "        flag = False\n",
    "        n += 1\n",
    "    elif n == 0:\n",
    "        flag = False\n",
    "        n += 1\n",
    "\n",
    "    if flag and txt[i - 1] not in prohibited_char:\n",
    "        result += '_'\n",
    "        prohibited_char.append(txt[i - 1])\n",
    "        n += 1\n",
    "    \n",
    "    else:\n",
    "        pass\n",
    "    \n",
    "    result += txt[i]\n",
    "    i += 1\n",
    "\n",
    "print(result)"
   ]
  },
  {
   "cell_type": "markdown",
   "metadata": {},
   "source": [
    "4. Number Guessing Game Create a simple number guessing game.\n",
    "\n",
    "    The computer randomly selects a number between 1 and 100.\n",
    "\n",
    "    If the guess is high, print \"Too high!\".\n",
    "\n",
    "    If the guess is low, print \"Too low!\".\n",
    "\n",
    "    If they guess correctly, print \"You guessed it right!\" and exit the loop.\n",
    "\n",
    "    The player has 10 attempts to guess it. If the player can not find the correct number in 10 attempts, print \"You lost. Want to play again? \".\n",
    "\n",
    "    If the player types one of 'Y', 'YES', 'y', 'yes', 'ok' then start the game from the beginning.\n",
    "\n",
    "Hint: Use Python’s random.randint() to generate the number."
   ]
  },
  {
   "cell_type": "code",
   "execution_count": 95,
   "metadata": {},
   "outputs": [
    {
     "name": "stdout",
     "output_type": "stream",
     "text": [
      "Too high!\n",
      "Too high!\n",
      "Too high!\n",
      "Too high!\n",
      "Too high!\n",
      "Too high!\n",
      "Too low!\n",
      "Too low!\n",
      "Too low!\n",
      "Too low!\n",
      "You lost. Want to play again?\n",
      "Too low!\n",
      "Too high!\n",
      "Too low!\n",
      "Too low!\n",
      "Too low!\n",
      "Too low!\n",
      "Too low!\n",
      "You guessed it right!\n"
     ]
    }
   ],
   "source": [
    "import random\n",
    "a = random.randint(1, 100)\n",
    "i = 0\n",
    "while i != 11:\n",
    "    i += 1\n",
    "    s = int(input())\n",
    "\n",
    "    if s > a:\n",
    "        print('Too high!')\n",
    "    elif s < a:\n",
    "        print('Too low!')\n",
    "    else:\n",
    "        print('You guessed it right!')\n",
    "        break\n",
    "    \n",
    "    if i == 10:\n",
    "        print('You lost. Want to play again?')\n",
    "        x = input()\n",
    "        if x in ['Y', 'YES', 'y', 'yes', 'ok']:\n",
    "            i = 0\n",
    "        else:\n",
    "            pass\n",
    "    "
   ]
  },
  {
   "cell_type": "markdown",
   "metadata": {},
   "source": [
    "5. Password Checker Task: Create a simple password checker.\n",
    "\n",
    "Ask the user to enter a password.\n",
    "\n",
    "If the password is shorter than 8 characters, print \"Password is too short.\"\n",
    "\n",
    "If the password doesn’t contain at least one uppercase letter, print \"Password must contain an uppercase letter.\".\n",
    "\n",
    "If the password meets both criteria, print \"Password is strong.\""
   ]
  },
  {
   "cell_type": "code",
   "execution_count": 100,
   "metadata": {},
   "outputs": [
    {
     "name": "stdout",
     "output_type": "stream",
     "text": [
      "Password is too short.\n",
      "Password is too short.\n",
      "Password must contain an uppercase letter.\n",
      "Password must contain an uppercase letter.\n",
      "Password is strong.\n"
     ]
    }
   ],
   "source": [
    "\n",
    "uppercase_letters = list(\"ABCDEFGHIJKLMNOPQRSTUVWXYZ\")\n",
    "while True:\n",
    "    password = input('enter a passwrod')\n",
    "    if len(password) < 8:\n",
    "        print(\"Password is too short.\")\n",
    "    elif not any(i in uppercase_letters for i in password):\n",
    "        print(\"Password must contain an uppercase letter.\")\n",
    "    else:\n",
    "        print(\"Password is strong.\")\n",
    "        break\n"
   ]
  }
 ],
 "metadata": {
  "kernelspec": {
   "display_name": "Python 3",
   "language": "python",
   "name": "python3"
  },
  "language_info": {
   "codemirror_mode": {
    "name": "ipython",
    "version": 3
   },
   "file_extension": ".py",
   "mimetype": "text/x-python",
   "name": "python",
   "nbconvert_exporter": "python",
   "pygments_lexer": "ipython3",
   "version": "3.11.6"
  }
 },
 "nbformat": 4,
 "nbformat_minor": 2
}
