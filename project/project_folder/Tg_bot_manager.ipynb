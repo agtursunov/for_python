{
 "cells": [
  {
   "cell_type": "code",
   "execution_count": 49,
   "metadata": {},
   "outputs": [],
   "source": [
    "import os\n",
    "from pdf2image import convert_from_path\n",
    "from PIL import Image\n",
    "import requests\n",
    "import sqlite3\n",
    "from datetime import datetime\n"
   ]
  },
  {
   "cell_type": "code",
   "execution_count": 50,
   "metadata": {},
   "outputs": [],
   "source": [
    "def files_path(folder_path):\n",
    "\n",
    "    pdf_files = []\n",
    "\n",
    "    for file in os.listdir(folder_path):\n",
    "        full_path = os.path.join(folder_path, file)\n",
    "        if os.path.isfile(full_path) and file.endswith('.pdf'):\n",
    "            pdf_files.append(full_path)\n",
    "            \n",
    "    return pdf_files"
   ]
  },
  {
   "cell_type": "code",
   "execution_count": 51,
   "metadata": {},
   "outputs": [],
   "source": [
    "def make_front_page_image(book_path, folder_path):\n",
    "\n",
    "    images = convert_from_path(book_path, first_page=1, last_page=1)\n",
    "    \n",
    "    image_path = os.path.join(folder_path, 'front_page.png')\n",
    "    images[0].save(image_path, 'PNG')\n",
    "\n",
    "    return image_path\n",
    "\n"
   ]
  },
  {
   "cell_type": "code",
   "execution_count": 52,
   "metadata": {},
   "outputs": [],
   "source": [
    "def sent_book_ang_front_page(file_path, image_path):\n",
    "    TOKEN = '7791673517:AAGWdQPwgtxcTPKeLUJzVJtUqBT-pI6pJhU'\n",
    "    CHANNEL_ID = '@tursunov_Books'\n",
    "    \n",
    "    url_send_document = f'https://api.telegram.org/bot{TOKEN}/sendDocument'\n",
    "    url_send_photo = f'https://api.telegram.org/bot{TOKEN}/sendPhoto'\n",
    "\n",
    "    with open(file_path, 'rb') as file:\n",
    "\n",
    "        response = requests.post(url_send_document, data={'chat_id': CHANNEL_ID,}, files={'document': file})\n",
    "        message_id = response.json()['result']['message_id']\n",
    "\n",
    "\n",
    "    with open(image_path, 'rb') as img_file:\n",
    "\n",
    "        response = requests.post(url_send_photo, data={\n",
    "            'chat_id': CHANNEL_ID,\n",
    "            'reply_to_message_id': message_id,\n",
    "        }, files={'photo': img_file})\n",
    "    if response.status_code == 200:\n",
    "        return os.path.basename(file_path),'Successfully', datetime.now()\n",
    "    else:\n",
    "        print(f'Error accurred: {response.text}')\n"
   ]
  },
  {
   "cell_type": "code",
   "execution_count": 53,
   "metadata": {},
   "outputs": [],
   "source": [
    "def create_data_base():\n",
    "    with sqlite3.connect('demo.db') as data_base:\n",
    "\n",
    "#    with sqlite3.connect('books_list.db') as data_base:\n",
    "    \n",
    "        cursor = data_base.cursor()\n",
    "        query_create_table = 'CREATE TABLE IF NOT EXISTS About_books (ID integer, Name text, Operation_report text, Date_time text)'\n",
    "        cursor.execute(query_create_table)"
   ]
  },
  {
   "cell_type": "code",
   "execution_count": 54,
   "metadata": {},
   "outputs": [],
   "source": [
    "def insert_data(id_book, name_book, report, in_time):\n",
    "    with sqlite3.connect('demo.db') as data_base:\n",
    "    \n",
    "#    with sqlite3.connect('books_list.db') as data_base:\n",
    "    \n",
    "        cursor = data_base.cursor()\n",
    "        insert_query = 'INSERT INTO About_books VALUES(?, ?, ?, ?)'\n",
    "        info = [(id_book, name_book, report, in_time), ]\n",
    "        cursor.executemany(insert_query, info)"
   ]
  },
  {
   "cell_type": "code",
   "execution_count": 55,
   "metadata": {},
   "outputs": [],
   "source": [
    "def main():\n",
    "    Image.MAX_IMAGE_PIXELS = None\n",
    "    folder_path = r'D:\\course_from_maab\\project\\books'\n",
    "    #folder_path = r'D:\\course_from_maab\\project\\mini_books'\n",
    "    pdf_files = files_path(folder_path)\n",
    "\n",
    "    create_data_base()\n",
    "    id = 0\n",
    "    for pdf_path in pdf_files:\n",
    "        id += 1\n",
    "        image_path = make_front_page_image(pdf_path, folder_path)\n",
    "        name_book, report, in_time = sent_book_ang_front_page(pdf_path, image_path)\n",
    "        insert_data(id, name_book, report, in_time)\n",
    "        os.remove(image_path)"
   ]
  },
  {
   "cell_type": "code",
   "execution_count": 56,
   "metadata": {},
   "outputs": [],
   "source": [
    "if __name__ == '__main__':\n",
    "    main()"
   ]
  }
 ],
 "metadata": {
  "kernelspec": {
   "display_name": "Python 3",
   "language": "python",
   "name": "python3"
  },
  "language_info": {
   "codemirror_mode": {
    "name": "ipython",
    "version": 3
   },
   "file_extension": ".py",
   "mimetype": "text/x-python",
   "name": "python",
   "nbconvert_exporter": "python",
   "pygments_lexer": "ipython3",
   "version": "3.11.6"
  }
 },
 "nbformat": 4,
 "nbformat_minor": 2
}
